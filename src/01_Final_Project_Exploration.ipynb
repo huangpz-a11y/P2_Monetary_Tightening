{
 "cells": [
  {
   "cell_type": "markdown",
   "id": "52006e30",
   "metadata": {},
   "source": [
    "# Final Project Exploration"
   ]
  },
  {
   "cell_type": "markdown",
   "id": "eba0c608",
   "metadata": {},
   "source": [
    "This is our Team's Data Science Tool for Finance final project. In this project we attempt to replicate the results of Table 1 found in Monetary Tightening and US Bank Fragility in 2023: Mark-To-Market Losses and Uninsured Depositor Runs, written by Erica Xuewei Jiang, Gregor Matvos,Tomasz Piskorski, and Amit Seru."
   ]
  },
  {
   "cell_type": "code",
   "execution_count": null,
   "id": "7294cc66",
   "metadata": {},
   "outputs": [],
   "source": [
    "import pandas as pd\n",
    "import numpy as np \n",
    "import matplotlib.pyplot as plt\n",
    "import warnings\n",
    "import data_read\n",
    "import load_assets\n",
    "import calc_functions\n",
    "import load_WRDS\n",
    "import config\n",
    "from pathlib import Path\n",
    "# import Calc_table_statistic\n",
    "\n",
    "BASE_DIR = config.BASE_DIR\n",
    "data_dir = BASE_DIR / 'data' \n",
    "warnings.filterwarnings(\"ignore\")"
   ]
  },
  {
   "cell_type": "markdown",
   "id": "ffa35b95",
   "metadata": {},
   "source": [
    "### Reports load\n",
    "\n",
    "- We first import the necessary data from WRDS\n",
    "- RCFD includes banks with both domestic and foreign branches\n",
    "- RCON includes banks with only domestic branches\n",
    "- These data series are divided into series 1 and series 2"
   ]
  },
  {
   "cell_type": "code",
   "execution_count": null,
   "id": "1acda765",
   "metadata": {},
   "outputs": [],
   "source": [
    "rcfd_data_1 = load_WRDS.load_RCFD_series_1(data_dir)\n",
    "rcon_data_1 = load_WRDS.load_RCON_series_1(data_dir)\n",
    "rcfd_data_2 = load_WRDS.load_RCFD_series_2(data_dir)\n",
    "rcon_data_2 = load_WRDS.load_RCON_series_2(data_dir)"
   ]
  },
  {
   "cell_type": "code",
   "execution_count": null,
   "id": "c4c8087d",
   "metadata": {},
   "outputs": [],
   "source": [
    "rcfd_data_1.columns = [col.upper() for col in rcfd_data_1.columns]\n",
    "rcon_data_1.columns = [col.upper() for col in rcon_data_1.columns]\n",
    "rcfd_data_2.columns = [col.upper() for col in rcfd_data_2.columns]\n",
    "rcon_data_2.columns = [col.upper() for col in rcon_data_2.columns]"
   ]
  },
  {
   "cell_type": "code",
   "execution_count": null,
   "id": "4cffb5c1",
   "metadata": {},
   "outputs": [],
   "source": [
    "inital_date = '03/31/2022'\n",
    "analysis_date = '03/31/2023'"
   ]
  },
  {
   "cell_type": "markdown",
   "id": "c363a7c1",
   "metadata": {},
   "source": [
    "## Data Cleaning"
   ]
  },
  {
   "cell_type": "markdown",
   "id": "fa07dabc",
   "metadata": {},
   "source": [
    "### Assets\n",
    "\n",
    "- We then get assets from both the RCON and RCFD, and combine the dataframes to compute the total/gross asset at bank levels"
   ]
  },
  {
   "cell_type": "code",
   "execution_count": null,
   "id": "88738279",
   "metadata": {},
   "outputs": [],
   "source": [
    "\n",
    "filtered_asset_level_0 = load_assets.clean_assets(rcfd_data_2,'RCFD2170',inital_date)\n",
    "filtered_asset_level = load_assets.clean_assets(rcon_data_2,'RCON2170',inital_date)\n",
    "filtered_asset_level.head()\n"
   ]
  },
  {
   "cell_type": "markdown",
   "id": "88fbbcd9",
   "metadata": {},
   "source": [
    "#### Creating a dataframe for total/gross asset for each bank"
   ]
  },
  {
   "cell_type": "code",
   "execution_count": null,
   "id": "44923543",
   "metadata": {},
   "outputs": [],
   "source": [
    "df_asset = pd.concat([filtered_asset_level_0, filtered_asset_level])\n",
    "total_asset = df_asset['gross_asset'].sum()\n",
    "df_asset.head()"
   ]
  },
  {
   "cell_type": "markdown",
   "id": "e6aebef5",
   "metadata": {},
   "source": [
    "### LOANS\n",
    "\n",
    "- We then get assets from both the RCON and RCFD, and combine the dataframes to compute the total/gross asset at bank levels"
   ]
  },
  {
   "cell_type": "code",
   "execution_count": null,
   "id": "3b40d945",
   "metadata": {},
   "outputs": [],
   "source": [
    "rcon_cols = ['RCONA564', 'RCONA565', 'RCONA566', 'RCONA567', 'RCONA568', 'RCONA569']\n",
    "rcon_cols2 = ['RCONA570', 'RCONA571', 'RCONA572', 'RCONA573', 'RCONA574', 'RCONA575']\n",
    "rcfd_cols = ['RCFDA570', 'RCFDA571', 'RCFDA572', 'RCFDA573', 'RCFDA574', 'RCFDA575']\n",
    "\n",
    "# Residential Loans with repricing maturity (secured by first liens)\n",
    "df_loans_first_lien_domestic = load_assets.clean_loans(rcon_data_1,rcon_cols,inital_date)\n",
    "\n",
    "# Loans and Leases (not-secured by first liens)\n",
    "df_loans_exc_first_lien = load_assets.clean_loans(rcfd_data_1,rcfd_cols,inital_date)\n",
    "df_loans_exc_first_lien_domestic = load_assets.clean_loans(rcon_data_2,rcon_cols2,inital_date)\n",
    "\n",
    "df_loans_first_lien_domestic.head()"
   ]
  },
  {
   "cell_type": "code",
   "execution_count": null,
   "id": "1e768f6e",
   "metadata": {},
   "outputs": [],
   "source": [
    "df_other_loan = pd.concat([df_loans_exc_first_lien_domestic, df_loans_exc_first_lien])\n",
    "df_other_loan = df_other_loan.sort_index()\n",
    "df_other_loan.head()"
   ]
  },
  {
   "cell_type": "markdown",
   "id": "68d98ca5",
   "metadata": {},
   "source": [
    "### RMBs"
   ]
  },
  {
   "cell_type": "code",
   "execution_count": null,
   "id": "4ebcb0ee",
   "metadata": {},
   "outputs": [],
   "source": [
    "rmbs_cols = ['RCFDA555', 'RCFDA556', 'RCFDA557', 'RCFDA558', 'RCFDA559', 'RCFDA560']\n",
    "rmbs_dom_cols = ['RCONA555', 'RCONA556', 'RCONA557', 'RCONA558', 'RCONA559', 'RCONA560']\n",
    "df_RMBS = load_assets.clean_loans(rcfd_data_1,rmbs_cols,inital_date)\n",
    "df_RMBS_dom = load_assets.clean_loans(rcon_data_1,rmbs_dom_cols,inital_date) #Form 051 - Domestic"
   ]
  },
  {
   "cell_type": "code",
   "execution_count": null,
   "id": "931807f4",
   "metadata": {},
   "outputs": [],
   "source": [
    "df_RMBS_Final = pd.concat([df_RMBS_dom, df_RMBS])\n",
    "df_RMBS_Final = df_RMBS_Final.sort_index()\n",
    "df_RMBS_Final.head()"
   ]
  },
  {
   "cell_type": "markdown",
   "id": "25d5b3e8",
   "metadata": {},
   "source": [
    "# Treausurys and Other (non-RMBs)"
   ]
  },
  {
   "cell_type": "code",
   "execution_count": null,
   "id": "27443aaf",
   "metadata": {},
   "outputs": [],
   "source": [
    "non_RMBS_cols = ['RCFDA549', 'RCFDA550', 'RCFDA551', 'RCFDA552', 'RCFDA553', 'RCFDA554']\n",
    "non_RMBS_dom_cols = ['RCONA549', 'RCONA550', 'RCONA551', 'RCONA552', 'RCONA553', 'RCONA554']\n",
    "\n",
    "df_non_RMBS = load_assets.clean_loans(rcfd_data_2,non_RMBS_cols,inital_date)\n",
    "df_non_RMBS_dom = load_assets.clean_loans(rcon_data_2,non_RMBS_dom_cols,inital_date)"
   ]
  },
  {
   "cell_type": "code",
   "execution_count": null,
   "id": "f1899b39",
   "metadata": {},
   "outputs": [],
   "source": [
    "df_treasury_and_others = pd.concat([df_non_RMBS_dom, df_non_RMBS])\n",
    "df_treasury_and_others = df_treasury_and_others.sort_index()\n",
    "df_treasury_and_others.head()"
   ]
  },
  {
   "cell_type": "code",
   "execution_count": null,
   "id": "bcda7327",
   "metadata": {},
   "outputs": [],
   "source": [
    "other_cols = ['RCFDA561', 'RCFDA562']\n",
    "other_cols2 = ['RCONA561', 'RCONA562']\n",
    "other_names = ['<3y', '>3y']\n",
    "\n",
    "df_other_MBS =  load_assets.clean_others(rcfd_data_1,other_cols,other_names,inital_date)\n",
    "df_other_MBS_domestic =  load_assets.clean_others(rcon_data_2,other_cols2,other_names,inital_date)\n",
    "df_other_MBS_total = pd.concat([df_other_MBS, df_other_MBS_domestic])\n",
    "df_other_MBS_total.head()"
   ]
  },
  {
   "cell_type": "code",
   "execution_count": null,
   "id": "e6de4e28",
   "metadata": {},
   "outputs": [],
   "source": [
    "other_leases = ['RCFDA247']\n",
    "other_leases2 = ['RCONA247']\n",
    "other_names2 = ['<1y']\n",
    "\n",
    "df_other_loan_lease =  load_assets.clean_others(rcfd_data_1,other_leases,other_names2,inital_date)\n",
    "df_other_loan_lease_domestic =  load_assets.clean_others(rcon_data_1,other_leases2,other_names2,inital_date)\n",
    "df_total_other_loan_lease = pd.concat([df_other_loan_lease, df_other_loan_lease_domestic])\n",
    "df_total_other_loan_lease.head()"
   ]
  },
  {
   "cell_type": "markdown",
   "id": "45ccc0bb",
   "metadata": {},
   "source": [
    "# Asset Decomposition\n",
    "\n",
    "- We caculated the total amount of core assets (RMBs, Treasuries, Residential Loans, Other Loans)\n",
    "- We divided this by total amount of the asset (asset ratio), and calculate the ratios among the 4 categories\n",
    "- We also calculated the ratio for other MBS and other leases, but these are not used in the subsequent analyses"
   ]
  },
  {
   "cell_type": "code",
   "execution_count": null,
   "id": "e41fbba4",
   "metadata": {},
   "outputs": [],
   "source": [
    "sum_asset = 0\n",
    "for df in [df_RMBS_Final, df_loans_first_lien_domestic, df_treasury_and_others, df_other_loan]:\n",
    "    total = df[['<3m', '3m-1y', '1y-3y', '3y-5y', '5y-15y', '>15y']].sum().sum()\n",
    "    sum_asset += total\n",
    "\n",
    "print('total assets:',\"{:,.2f}\".format(sum_asset))"
   ]
  },
  {
   "cell_type": "code",
   "execution_count": null,
   "id": "0197f339",
   "metadata": {},
   "outputs": [],
   "source": [
    "print('assets ratio:',\"{:,.2%}\".format(sum_asset/total_asset))"
   ]
  },
  {
   "cell_type": "code",
   "execution_count": null,
   "id": "a0b5022c",
   "metadata": {},
   "outputs": [],
   "source": [
    "RMBS = df_RMBS_Final[['<3m', '3m-1y', '1y-3y', '3y-5y', '5y-15y', '>15y']].sum().sum()\n",
    "a = RMBS / total_asset\n",
    "\"{:,.2%}\".format(a)"
   ]
  },
  {
   "cell_type": "code",
   "execution_count": null,
   "id": "51ab438d",
   "metadata": {},
   "outputs": [],
   "source": [
    "df_loans = df_loans_first_lien_domestic[['<3m', '3m-1y', '1y-3y', '3y-5y', '5y-15y', '>15y']].sum().sum()\n",
    "b = df_loans / total_asset\n",
    "\"{:,.2%}\".format(b)"
   ]
  },
  {
   "cell_type": "code",
   "execution_count": null,
   "id": "5569f81c",
   "metadata": {},
   "outputs": [],
   "source": [
    "df_treasury = df_treasury_and_others[['<3m', '3m-1y', '1y-3y', '3y-5y', '5y-15y', '>15y']].sum().sum()\n",
    "c = df_treasury / total_asset\n",
    "\"{:,.2%}\".format(c)"
   ]
  },
  {
   "cell_type": "code",
   "execution_count": null,
   "id": "eb5914e1",
   "metadata": {},
   "outputs": [],
   "source": [
    "df_other_ln = df_other_loan[['<3m', '3m-1y', '1y-3y', '3y-5y', '5y-15y', '>15y']].sum().sum()\n",
    "d = df_other_ln / total_asset\n",
    "\"{:,.2%}\".format(d)"
   ]
  },
  {
   "cell_type": "code",
   "execution_count": null,
   "id": "5e5b0373",
   "metadata": {},
   "outputs": [],
   "source": [
    "df_other_MBS = df_other_MBS_total[['<3y', '>3y']].sum().sum()\n",
    "e = df_other_MBS  / total_asset\n",
    "\"{:,.2%}\".format(e)"
   ]
  },
  {
   "cell_type": "code",
   "execution_count": null,
   "id": "636b9936",
   "metadata": {},
   "outputs": [],
   "source": [
    "df_total_other_ll = df_total_other_loan_lease['<1y'].sum()\n",
    "f = df_total_other_ll / total_asset\n",
    "\"{:,.2%}\".format(f)"
   ]
  },
  {
   "cell_type": "code",
   "execution_count": null,
   "id": "c7b1ff83",
   "metadata": {},
   "outputs": [],
   "source": [
    "\"{:,.2%}\".format(a+b+c+d+e) #matches with the function above"
   ]
  },
  {
   "cell_type": "markdown",
   "id": "2e6c3b28",
   "metadata": {},
   "source": [
    "## roughly the same as the security component (see Panel A)"
   ]
  },
  {
   "cell_type": "code",
   "execution_count": null,
   "id": "724cef75",
   "metadata": {},
   "outputs": [],
   "source": [
    "\"{:,.2%}\".format(a+e+c)"
   ]
  },
  {
   "cell_type": "markdown",
   "id": "8066a4e3",
   "metadata": {},
   "source": [
    "## roughly the same as the total loan component (see Panel A)"
   ]
  },
  {
   "cell_type": "code",
   "execution_count": null,
   "id": "eb7d21da",
   "metadata": {},
   "outputs": [],
   "source": [
    "\"{:,.2%}\".format(d+b)"
   ]
  },
  {
   "cell_type": "markdown",
   "id": "6d517953",
   "metadata": {},
   "source": [
    " "
   ]
  },
  {
   "cell_type": "markdown",
   "id": "5f6091d7",
   "metadata": {},
   "source": [
    "# Table Analysis (Below are the contents for first column of table 1)"
   ]
  },
  {
   "cell_type": "markdown",
   "id": "88ee3d68",
   "metadata": {},
   "source": [
    "# 1. Aggregate Loss and Bank Loss (include each share)"
   ]
  },
  {
   "cell_type": "markdown",
   "id": "52bc311d",
   "metadata": {},
   "source": [
    "###  Treasury prices"
   ]
  },
  {
   "cell_type": "code",
   "execution_count": null,
   "id": "7c1a1e41",
   "metadata": {},
   "outputs": [],
   "source": [
    "path_combined = Path(data_dir) / \"manual\" / \"combined_index_df\"\n",
    "path_treasury = Path(data_dir) / \"manual\" / \"Treasury_index\"\n",
    "path_MBS = Path(data_dir) / \"manual\" / \"MBS_ETF\""
   ]
  },
  {
   "cell_type": "code",
   "execution_count": null,
   "id": "edc57d30",
   "metadata": {},
   "outputs": [],
   "source": [
    "combined_index_df = data_read.load_df(path_combined)\n",
    "treasury_prices = combined_index_df[['iShares 0-1', 'iShares 1-3', 'sp 3-5', 'iShares 7-10', 'iShares 10-20', 'iShares 20+']]\n",
    "treasury_prices = treasury_prices.resample('Q').first()\n",
    "treasury_prices = treasury_prices.loc[inital_date:analysis_date]\n",
    "treasury_prices"
   ]
  },
  {
   "cell_type": "code",
   "execution_count": null,
   "id": "4d3ebbc9",
   "metadata": {},
   "outputs": [],
   "source": [
    "df_SP_Treasury_bond_index = data_read.load_df(path_treasury,1)\n",
    "df_SP_Treasury_bond_index = df_SP_Treasury_bond_index.resample('Q').first()\n",
    "df_SP_Treasury_bond_index = df_SP_Treasury_bond_index.loc[inital_date:analysis_date]\n",
    "df_SP_Treasury_bond_index\n"
   ]
  },
  {
   "cell_type": "code",
   "execution_count": null,
   "id": "2ae7abc6",
   "metadata": {},
   "outputs": [],
   "source": [
    "df_iShare_MBS_ETF = data_read.load_df(path_MBS,1,csv=True)\n",
    "df_iShare_MBS_ETF.index = pd.to_datetime(df_iShare_MBS_ETF.index)\n",
    "df_iShare_MBS_ETF = df_iShare_MBS_ETF.resample('Q').first()\n",
    "df_iShare_MBS_ETF.index.rename('date', inplace=True)\n",
    "df_iShare_MBS_ETF = df_iShare_MBS_ETF.loc['2022-03-31':'2023-03-31']\n",
    "df_iShare_MBS_ETF"
   ]
  },
  {
   "cell_type": "code",
   "execution_count": null,
   "id": "ddfba33f",
   "metadata": {},
   "outputs": [],
   "source": [
    "RMBS_Multiplier = calc_functions.RMBs_Multiplier(df_SP_Treasury_bond_index, df_iShare_MBS_ETF,inital_date,analysis_date)\n",
    "RMBS_Multiplier"
   ]
  },
  {
   "cell_type": "code",
   "execution_count": null,
   "id": "bdeafce6",
   "metadata": {},
   "outputs": [],
   "source": [
    "#Create copies for each dataframe\n",
    "df_RMBS_Final_1 = df_RMBS_Final.copy() \n",
    "df_loans_first_lien_domestic_1 = df_loans_first_lien_domestic.copy()\n",
    "df_treasury_and_others_1 = df_treasury_and_others.copy()\n",
    "df_other_loan_1 = df_other_loan.copy()"
   ]
  },
  {
   "cell_type": "code",
   "execution_count": null,
   "id": "5018d3f4",
   "metadata": {},
   "outputs": [],
   "source": [
    "bank_losses = calc_functions.report_losses(inital_date,analysis_date,df_RMBS_Final, df_loans_first_lien_domestic,\\\n",
    "                                            df_treasury_and_others, df_other_loan, treasury_prices, RMBS_Multiplier, df_asset)\n",
    "bank_losses"
   ]
  },
  {
   "cell_type": "code",
   "execution_count": null,
   "id": "947b94c6",
   "metadata": {},
   "outputs": [],
   "source": [
    "median_percentage = bank_losses[['Share RMBs', 'Share Treasury and Other', \n",
    "        'Share Residential Mortgage', 'Share Other Loan']].median()\n",
    "median_percentage\n",
    "#close to reported values, but the distribution looks good"
   ]
  },
  {
   "cell_type": "code",
   "execution_count": null,
   "id": "704118d2",
   "metadata": {},
   "outputs": [],
   "source": [
    "std_percentages =bank_losses[['Share RMBs', 'Share Treasury and Other', \n",
    "        'Share Residential Mortgage', 'Share Other Loan']].std()\n",
    "std_percentages #this is slightly different "
   ]
  },
  {
   "cell_type": "markdown",
   "id": "522b9c6d",
   "metadata": {},
   "source": [
    "## Total, median, and std of losses"
   ]
  },
  {
   "cell_type": "code",
   "execution_count": null,
   "id": "f93f3744",
   "metadata": {},
   "outputs": [],
   "source": [
    "total_sum_loss = bank_losses['total_loss'].sum()\n",
    "total_sum_loss"
   ]
  },
  {
   "cell_type": "code",
   "execution_count": null,
   "id": "efb66ec7",
   "metadata": {},
   "outputs": [],
   "source": [
    "median_bank_loss = bank_losses['total_loss'].median()\n",
    "median_bank_loss "
   ]
  },
  {
   "cell_type": "code",
   "execution_count": null,
   "id": "4b1c9166",
   "metadata": {},
   "outputs": [],
   "source": [
    "std_bank_loss = bank_losses['total_loss'].std()\n",
    "std_bank_loss"
   ]
  },
  {
   "cell_type": "markdown",
   "id": "c05fcfcd",
   "metadata": {},
   "source": [
    "## Checks"
   ]
  },
  {
   "cell_type": "code",
   "execution_count": null,
   "id": "e94a6864",
   "metadata": {},
   "outputs": [],
   "source": [
    "core_asset = bank_losses['core_asset'].sum()\n",
    "core_asset"
   ]
  },
  {
   "cell_type": "code",
   "execution_count": null,
   "id": "e37dc638",
   "metadata": {},
   "outputs": [],
   "source": [
    "gross_asset = bank_losses['gross_asset'].sum()\n",
    "gross_asset "
   ]
  },
  {
   "cell_type": "code",
   "execution_count": null,
   "id": "8d046198",
   "metadata": {},
   "outputs": [],
   "source": [
    "core_asset / gross_asset"
   ]
  },
  {
   "cell_type": "markdown",
   "id": "e4316b18",
   "metadata": {},
   "source": [
    "# 2. Loss / Asset"
   ]
  },
  {
   "cell_type": "markdown",
   "id": "962ffbc9",
   "metadata": {},
   "source": [
    "## Ratio Results"
   ]
  },
  {
   "cell_type": "code",
   "execution_count": null,
   "id": "bc83dfa1",
   "metadata": {},
   "outputs": [],
   "source": [
    "median_loss_asset_ratio = bank_losses['loss/gross_asset'].median()\n",
    "median_loss_asset_ratio"
   ]
  },
  {
   "cell_type": "code",
   "execution_count": null,
   "id": "b93234c7",
   "metadata": {},
   "outputs": [],
   "source": [
    "average_loss_asset_ratio = bank_losses['loss/gross_asset'].mean()\n",
    "average_loss_asset_ratio"
   ]
  },
  {
   "cell_type": "code",
   "execution_count": null,
   "id": "427e7af7",
   "metadata": {},
   "outputs": [],
   "source": [
    "std_loss_asset_ratio = bank_losses['loss/gross_asset'].std()\n",
    "std_loss_asset_ratio"
   ]
  },
  {
   "cell_type": "markdown",
   "id": "19daeec6",
   "metadata": {},
   "source": [
    "# 3. Uninsured Deposit/MM Asset"
   ]
  },
  {
   "cell_type": "markdown",
   "id": "bbf8d32d",
   "metadata": {},
   "source": [
    "- Uninsured Deposits are directly reported as RCON5597 in the call reports\n",
    "- MM Asset: total assets in 2022:Q1 minus the mark-to-market value loss (value) "
   ]
  },
  {
   "cell_type": "code",
   "execution_count": null,
   "id": "fd1ff5a1",
   "metadata": {},
   "outputs": [],
   "source": [
    "uninsured_deposit = rcon_data_1[['RSSD9001','RSSD9017', 'RSSD9999', 'RCON5597']]\n",
    "uninsured_deposit = uninsured_deposit .rename(columns={\n",
    "    'RSSD9001': 'bank_ID',\n",
    "    'RSSD9017': 'bank_name',\n",
    "    'RSSD9999': 'report_date',\n",
    "    'RCON5597': 'uninsured_deposit'\n",
    "\n",
    "})\n",
    "uninsured_deposit = uninsured_deposit[uninsured_deposit['report_date'] == '03/31/2022']\n",
    "uninsured_deposit['uninsured_deposit'].sum()/gross_asset #Similar to Panel A result of 37.4%"
   ]
  },
  {
   "cell_type": "code",
   "execution_count": null,
   "id": "834f27e8",
   "metadata": {},
   "outputs": [],
   "source": [
    "uninsured_deposit['uninsured_deposit'].sum() #Roughly 9 trillion "
   ]
  },
  {
   "cell_type": "code",
   "execution_count": null,
   "id": "47349629",
   "metadata": {},
   "outputs": [],
   "source": [
    "def calculate_uninsured_deposit_mm_asset(uninsured_deposit, bank_losses):\n",
    "    \n",
    "    # Initialize an empty list to store the results\n",
    "    results = []\n",
    "    \n",
    "    # Adjust the uninsured_deposit DataFrame to use both 'bank_name' and 'Bank_ID' as a multi-index for quick lookup\n",
    "    uninsured_lookup = uninsured_deposit.set_index(['bank_name', 'bank_ID'])['uninsured_deposit'].to_dict()\n",
    "    \n",
    "    # Iterate over each row in bank_losses DataFrame\n",
    "    for index, bank_loss_row in bank_losses.iterrows():\n",
    "        bank_name = bank_loss_row['bank_name']\n",
    "        bank_id = bank_loss_row['bank_ID']\n",
    "        \n",
    "        # Adjust the lookup to include 'Bank_ID'\n",
    "        uninsured_deposit_value = uninsured_lookup.get((bank_name, bank_id), 0)\n",
    "        \n",
    "        # Calculate 'MM Asset' as the sum of 'total_loss' and 'gross_asset' (as defined in the paper)\n",
    "        mm_asset = bank_loss_row['total_loss'] + bank_loss_row['gross_asset']\n",
    "        \n",
    "        # Calculate Uninsured Deposit/MM Asset ratio \n",
    "        if mm_asset > 0:\n",
    "            uninsured_deposit_mm_asset_ratio = uninsured_deposit_value / mm_asset\n",
    "        \n",
    "        # Append to final dataframe\n",
    "        results.append({\n",
    "            'bank_name': bank_name,\n",
    "            'bank_ID': bank_id, \n",
    "            'total_loss': bank_loss_row['total_loss'], \n",
    "            'total_asset': bank_loss_row['gross_asset'],\n",
    "            'mm_asset': mm_asset,\n",
    "            'uninsured_deposit': uninsured_deposit_value, \n",
    "            'Uninsured_Deposit_MM_Asset': uninsured_deposit_mm_asset_ratio\n",
    "        })\n",
    "    \n",
    "    # Convert results list to DataFrame and sort by 'Bank_ID'\n",
    "    results_df = pd.DataFrame(results).sort_values(by=['bank_name', 'bank_ID'])\n",
    "    \n",
    "    return results_df\n",
    "\n",
    "un_mm_ratio = calculate_uninsured_deposit_mm_asset(uninsured_deposit, bank_losses)"
   ]
  },
  {
   "cell_type": "markdown",
   "id": "bf9d371b",
   "metadata": {},
   "source": [
    "## Checks"
   ]
  },
  {
   "cell_type": "code",
   "execution_count": null,
   "id": "b12e09a8",
   "metadata": {},
   "outputs": [],
   "source": [
    "un_mm_ratio['total_loss'].sum()"
   ]
  },
  {
   "cell_type": "code",
   "execution_count": null,
   "id": "666c2063",
   "metadata": {},
   "outputs": [],
   "source": [
    "un_mm_ratio['total_asset'].sum()"
   ]
  },
  {
   "cell_type": "code",
   "execution_count": null,
   "id": "84af41ad",
   "metadata": {},
   "outputs": [],
   "source": [
    "un_mm_ratio['mm_asset'].sum()"
   ]
  },
  {
   "cell_type": "markdown",
   "id": "818cda55",
   "metadata": {},
   "source": [
    "## Ratio Results"
   ]
  },
  {
   "cell_type": "code",
   "execution_count": null,
   "id": "386876f5",
   "metadata": {},
   "outputs": [],
   "source": [
    "un_mm_ratio['Uninsured_Deposit_MM_Asset'].median()"
   ]
  },
  {
   "cell_type": "code",
   "execution_count": null,
   "id": "4e0326d9",
   "metadata": {},
   "outputs": [],
   "source": [
    "un_mm_ratio['Uninsured_Deposit_MM_Asset'].std()"
   ]
  },
  {
   "cell_type": "markdown",
   "id": "30481528",
   "metadata": {},
   "source": [
    "# 4. Insured Deposit Coverage Ratio"
   ]
  },
  {
   "cell_type": "markdown",
   "id": "92ad0171",
   "metadata": {},
   "source": [
    "\n",
    "#### we defined Insured Deposit Coverage Ratio as total amount of deposit accounts of:\n",
    "\n",
    "- RCFDF049 - Deposit accounts (excluding retirement accounts) of 250000 or less\n",
    "- RCFDF045 - Retirement deposit accounts of 250000 or less"
   ]
  },
  {
   "cell_type": "code",
   "execution_count": null,
   "id": "f3c9d5f4",
   "metadata": {},
   "outputs": [],
   "source": [
    "insured_deposit = rcon_data_1[['RSSD9001','RSSD9017', 'RSSD9999', 'RCONF049', 'RCONF045']] \n",
    "#RCFDF049 are Deposit accounts (excluding retirement accounts) of $250,000 or less\n",
    "#RCFDF045 are Retirement deposit accounts of $250,000 or less\n",
    "\n",
    "insured_deposit = insured_deposit.rename(columns={\n",
    "    'RSSD9001': 'bank_ID',\n",
    "    'RSSD9017': 'bank_name',\n",
    "    'RSSD9999': 'report_date',\n",
    "    'RCONF049': 'insured_deposit_1',\n",
    "    'RCONF045': 'insured_deposit_2'\n",
    "})\n",
    "insured_deposit = insured_deposit[insured_deposit['report_date'] == '03/31/2022']\n",
    "insured_deposit['insured_deposit_1'].sum()/total_asset + insured_deposit['insured_deposit_2'].sum()/total_asset\n",
    "\n",
    "#THESE NUMBERS ARE SLIGHLY FAR FROM INSURED DEPOSIT IN PANEL A"
   ]
  },
  {
   "cell_type": "code",
   "execution_count": null,
   "id": "51354ae7",
   "metadata": {},
   "outputs": [],
   "source": [
    "insured_deposit['insured_deposit'] = insured_deposit['insured_deposit_1'] + insured_deposit['insured_deposit_2']\n",
    "insured_deposit "
   ]
  },
  {
   "cell_type": "code",
   "execution_count": null,
   "id": "301c1530",
   "metadata": {},
   "outputs": [],
   "source": [
    "insured_deposit['insured_deposit'].sum()"
   ]
  },
  {
   "cell_type": "code",
   "execution_count": null,
   "id": "6ceb2d11",
   "metadata": {},
   "outputs": [],
   "source": [
    "def insured_deposit_coverage_ratio(insured_deposit, uninsured_deposit, bank_losses):\n",
    "    # Initialize an empty list to store the results\n",
    "    results = []\n",
    "    \n",
    "    # Create dictionaries from insured and uninsured deposits for quick lookup\n",
    "    insured_lookup = insured_deposit.set_index(['bank_name', 'bank_ID'])['insured_deposit'].to_dict()\n",
    "    uninsured_lookup = uninsured_deposit.set_index(['bank_name', 'bank_ID'])['uninsured_deposit'].to_dict()\n",
    "    \n",
    "    # Iterate over each row in bank_losses DataFrame\n",
    "    for index, bank_loss_row in bank_losses.iterrows():\n",
    "        bank_name = bank_loss_row['bank_name']\n",
    "        bank_id = bank_loss_row['bank_ID']\n",
    "        \n",
    "        # Retrieve insured and uninsured deposit values\n",
    "        insured_deposit_value = insured_lookup.get((bank_name, bank_id), 0)\n",
    "        uninsured_deposit_value = uninsured_lookup.get((bank_name, bank_id), 0)\n",
    "        \n",
    "        # Calculate mark-to-market asset value as the sum of 'total_asset' minus 'total_loss'\n",
    "        mark_to_market_asset_value = bank_loss_row['gross_asset'] + bank_loss_row['total_loss']\n",
    "        \n",
    "        # Calculate the insured deposit coverage ratio\n",
    "        if insured_deposit_value > 0:  # Prevent division by zero\n",
    "            coverage_ratio = (mark_to_market_asset_value - uninsured_deposit_value - insured_deposit_value) / insured_deposit_value\n",
    "        \n",
    "        # Append the result\n",
    "        results.append({\n",
    "            'bank_name': bank_name,\n",
    "            'bank_ID': bank_id,\n",
    "            'mm_asset': mark_to_market_asset_value,\n",
    "            'insured_deposit': insured_deposit_value,\n",
    "            'uninsured_deposit': uninsured_deposit_value,\n",
    "            'insured_deposit_coverage_ratio': coverage_ratio\n",
    "        })\n",
    "    \n",
    "    # Convert results list to DataFrame\n",
    "    results_df = pd.DataFrame(results)\n",
    "    \n",
    "    return results_df\n",
    "\n",
    "coverage_ratios_df = insured_deposit_coverage_ratio(insured_deposit, uninsured_deposit, bank_losses)\n",
    "coverage_ratios_df"
   ]
  },
  {
   "cell_type": "markdown",
   "id": "50af25f6",
   "metadata": {},
   "source": [
    "## Checks"
   ]
  },
  {
   "cell_type": "code",
   "execution_count": null,
   "id": "801711bb",
   "metadata": {},
   "outputs": [],
   "source": [
    "coverage_ratios_df['insured_deposit'].sum()"
   ]
  },
  {
   "cell_type": "code",
   "execution_count": null,
   "id": "0b675c46",
   "metadata": {},
   "outputs": [],
   "source": [
    "coverage_ratios_df['uninsured_deposit'].sum()"
   ]
  },
  {
   "cell_type": "code",
   "execution_count": null,
   "id": "7b29d88f",
   "metadata": {},
   "outputs": [],
   "source": [
    "coverage_ratios_df['mm_asset'].sum()"
   ]
  },
  {
   "cell_type": "markdown",
   "id": "b4620619",
   "metadata": {},
   "source": [
    "## Ratio Results"
   ]
  },
  {
   "cell_type": "code",
   "execution_count": null,
   "id": "cfd0cb47",
   "metadata": {},
   "outputs": [],
   "source": [
    "coverage_ratios_df['insured_deposit_coverage_ratio'].median()"
   ]
  },
  {
   "cell_type": "code",
   "execution_count": null,
   "id": "d69c0d30",
   "metadata": {},
   "outputs": [],
   "source": [
    "coverage_ratios_df['insured_deposit_coverage_ratio'].std()"
   ]
  },
  {
   "cell_type": "markdown",
   "id": "a2ceee1e",
   "metadata": {},
   "source": [
    "# Final Table Results"
   ]
  },
  {
   "cell_type": "markdown",
   "id": "88058a5f",
   "metadata": {},
   "source": [
    "- For table 1, we used the above methods to aggregate the stastics across losses"
   ]
  },
  {
   "cell_type": "code",
   "execution_count": null,
   "id": "a69f9615",
   "metadata": {},
   "outputs": [],
   "source": [
    "def final_statistic_table(bank_losses_assets, uninsured_deposit_mm_asset, insured_deposit_coverage, index_name = 'All Banks'):\n",
    "    # Merge the DataFrames on bank_name and Bank_ID to include uninsured deposit/MM Asset ratios and insured deposit coverage ratios\n",
    "    \n",
    "    \n",
    "    bank_count = len(bank_losses_assets.index)\n",
    "\n",
    "    final_stats = pd.DataFrame({\n",
    "        'Aggregate Loss': [f\"{-round(bank_losses_assets['total_loss'].sum() / 1e9, 1)}T\"],  # Convert to trillions\n",
    "        'Bank Level Loss': [f\"{-round(bank_losses_assets['total_loss'].median() / 1e3, 1)}M\"],  # Convert to millions\n",
    "        'Bank Level Loss Std': [f\"{round(bank_losses_assets['total_loss'].std() / 1e6, 2)}B\"],  # Std deviation for Bank Level Loss\n",
    "        'Share RMBS': [round(bank_losses_assets['Share RMBs'].median() * 100, 1)],  # Median percentage\n",
    "        'Share RMBS Std': [round(bank_losses_assets['Share RMBs'].std() * 100, 1)],  # Std deviation for Share RMBS\n",
    "        'Share Treasury and Other': [round(bank_losses_assets['Share Treasury and Other'].median() * 100, 1)],  # Median percentage\n",
    "        'Share Treasury and Other Std': [round(bank_losses_assets['Share Treasury and Other'].std() * 100, 1)],  # Std deviation\n",
    "        'Share Residential Mortgage': [round(bank_losses_assets['Share Residential Mortgage'].median() * 100, 1)],  # Median percentage\n",
    "        'Share Residential Mortgage Std': [round(bank_losses_assets['Share Residential Mortgage'].std() * 100, 1)],  # Std deviation\n",
    "        'Share Other Loan': [round(bank_losses_assets['Share Other Loan'].median() * 100, 1)],  # Median percentage\n",
    "        'Share Other Loan Std': [round(bank_losses_assets['Share Other Loan'].std() * 100, 1)],  # Std deviation\n",
    "        'Loss/Asset': [round(bank_losses_assets['loss/gross_asset'].median() * 100, 1)],  # Median percentage\n",
    "        'Loss/Asset Std': [round(bank_losses_assets['loss/gross_asset'].std() * 100, 1)],  # Std deviation\n",
    "        'Uninsured Deposit/MM Asset': [round(uninsured_deposit_mm_asset['Uninsured_Deposit_MM_Asset'].median() * 100, 1)],  # Median percentage\n",
    "        'Uninsured Deposit/MM Asset Std': [round(uninsured_deposit_mm_asset['Uninsured_Deposit_MM_Asset'].std() * 100, 1)],  # Std deviation\n",
    "        'Insured Deposit Coverage Ratio': [round(insured_deposit_coverage['insured_deposit_coverage_ratio'].median() * 100, 1)],  # Median percentage\n",
    "        'Insured Deposit Coverage Ratio Std': [round(insured_deposit_coverage['insured_deposit_coverage_ratio'].std() * 100, 1)],  # Std deviation\n",
    "        'Number of Banks': [len(bank_losses_assets.index.unique())]  # Count of unique banks\n",
    "    })\n",
    "\n",
    "    # Rename index to 'All Banks'\n",
    "    final_stats.index = [index_name]\n",
    "\n",
    "    final_stats = final_stats.T\n",
    "    \n",
    "    return final_stats"
   ]
  },
  {
   "cell_type": "code",
   "execution_count": null,
   "id": "b3fa9243",
   "metadata": {},
   "outputs": [],
   "source": [
    "def GSIB_bank_id():\n",
    "    #GSIB = [35301,93619,229913,398668,413208,451965,476810,480228,488318,\n",
    "     #497404,541101,651448,688079,722777,812164,852218,934329,1225761,\n",
    "     #1443266,1456501,2182786,2362458,2489805,2531991,3066025]\n",
    "    GSIB = [852218, 480228, 476810, 413208, #JP Morgan, Bank of America, Citigroup, HSBC\n",
    "      2980209, 2182786, 541101, 655839, 1015560, 229913,#Barclays, Goldman Sachs, BNY Mellon, CCB COMMUNITY BANK, ICBC, Mizuho\n",
    "       1456501, 722777, 35301, 925411, 497404, 3212149, #Morgan Stanley, Santander, State Street, Sumitomo Mitsui, TD Bank, UBS\n",
    "      451965] #wells fargo\n",
    "    return GSIB\n",
    "\n",
    "def large_ex_GSIB_bank_id(large):\n",
    "    bank_id_large_ex_GSIB = []\n",
    "    for bank_id in large['Bank_ID']:\n",
    "       bank_id_large_ex_GSIB.append(bank_id)\n",
    "    return bank_id_large_ex_GSIB\n",
    "\n",
    "def small_bank_id(small):\n",
    "    bank_id_small = []\n",
    "    for bank_id in small['Bank_ID']:\n",
    "       bank_id_small.append(bank_id)\n",
    "    return bank_id_small"
   ]
  },
  {
   "cell_type": "code",
   "execution_count": null,
   "id": "65fc81e6",
   "metadata": {},
   "outputs": [],
   "source": [
    "GSIB = GSIB_bank_id() #list of GSIB bank IDs\n",
    "df_asset_GSIB = df_asset[df_asset['Bank_ID'].isin(GSIB)] #total assets all GSIB banks\n",
    "#Large non-GSIB Banks\n",
    "df_asset_large_ex_GSIB = df_asset[(~df_asset['Bank_ID'].isin(GSIB)) & (df_asset['gross_asset']>1384000)] #total assets all large non-GSIB banks\n",
    "large_ex_GSIB = large_ex_GSIB_bank_id(df_asset_large_ex_GSIB) #list of large non-GSIB bank IDs\n",
    "#Small Banks\n",
    "df_asset_small = df_asset[(~df_asset['Bank_ID'].isin(GSIB)) & (df_asset['gross_asset']<=1384000)] #total asset all small banks \n",
    "small = small_bank_id(df_asset_small)"
   ]
  },
  {
   "cell_type": "code",
   "execution_count": null,
   "id": "0218c394",
   "metadata": {},
   "outputs": [],
   "source": [
    "df_RMBS_GSIB = df_RMBS_Final[df_RMBS_Final['Bank_ID'].isin(GSIB)] #RMBS for GSIB banks\n",
    "df_RMBS_large_ex_GSIB = df_RMBS_Final[df_RMBS_Final['Bank_ID'].isin(large_ex_GSIB)] #RMBS for large non-GSIB banks\n",
    "df_RMBS_small = df_RMBS_Final[df_RMBS_Final['Bank_ID'].isin(small)]"
   ]
  },
  {
   "cell_type": "code",
   "execution_count": null,
   "id": "aac36ade",
   "metadata": {},
   "outputs": [],
   "source": [
    "df_RMBS_Final = df_RMBS_Final #RMBS for all banks \n",
    "df_RMBS_GSIB = df_RMBS_Final[df_RMBS_Final['Bank_ID'].isin(GSIB)] #RMBS for GSIB banks\n",
    "df_RMBS_large_ex_GSIB = df_RMBS_Final[df_RMBS_Final['Bank_ID'].isin(large_ex_GSIB)] #RMBS for large non-GSIB banks\n",
    "df_RMBS_small = df_RMBS_Final[df_RMBS_Final['Bank_ID'].isin(small)] #RMBS for small banks\n",
    "\n",
    "#Loans First Lien Domestic\n",
    "\n",
    "df_loans_first_lien_domestic = df_loans_first_lien_domestic # loans first lien domestic for all banks\n",
    "df_loans_first_lien_domestic_GSIB = df_loans_first_lien_domestic[df_loans_first_lien_domestic['Bank_ID'].isin(GSIB)] # loans first lien domestic for all GSIB banks\n",
    "df_loans_first_lien_domestic_large_ex_GSIB = df_loans_first_lien_domestic[df_loans_first_lien_domestic['Bank_ID'].isin(large_ex_GSIB)] # loans first lien domestic for all large non-GSIB banks\n",
    "df_loans_first_lien_domestic_small = df_loans_first_lien_domestic[df_loans_first_lien_domestic['Bank_ID'].isin(small)]\n",
    "\n",
    "df_treasury_and_others = df_treasury_and_others #treasury and others all banks \n",
    "df_treasury_and_others_GSIB = df_treasury_and_others[df_treasury_and_others['Bank_ID'].isin(GSIB)] #treasury and others GSIB banks\n",
    "df_treasury_and_others_large_ex_GSIB = df_treasury_and_others[df_treasury_and_others['Bank_ID'].isin(large_ex_GSIB)] #treasury and others large non-GSIB baanks \n",
    "df_treasury_and_others_small = df_treasury_and_others[df_treasury_and_others['Bank_ID'].isin(small)] #treasury and others small banks \n",
    "\n",
    "#Other Loan \n",
    "\n",
    "df_other_loan = df_other_loan #other loans for all banks \n",
    "df_other_loan_GSIB = df_other_loan[df_other_loan['Bank_ID'].isin(GSIB)] #other loans for all GSIB banks \n",
    "df_other_loan_large_ex_GSIB = df_other_loan[df_other_loan['Bank_ID'].isin(large_ex_GSIB)] #other loans for all large non-GSIB banks\n",
    "df_other_loan_small = df_other_loan[df_other_loan['Bank_ID'].isin(small)] \n",
    "\n",
    " #uninsured deposits\n",
    "uninsured_deposit = uninsured_deposit #uninsured deposits for all banks\n",
    "uninsured_deposit_GSIB = uninsured_deposit[uninsured_deposit['bank_ID'].isin(GSIB)] #uninsured deposits for GSIB banks\n",
    "uninsured_deposit_large_ex_GSIB = uninsured_deposit[uninsured_deposit['bank_ID'].isin(large_ex_GSIB)] #uninsured deposits for large non-GSIB banks\n",
    "uninsured_deposit_small = uninsured_deposit[uninsured_deposit['bank_ID'].isin(small)] #uninsured deposits for small banks\n",
    "\n",
    "#insured deposits\n",
    "insured_deposits = insured_deposit.copy() #insured deposits for all banks\n",
    "insured_deposits_GSIB = insured_deposits[insured_deposits['bank_ID'].isin(GSIB)] #insured deposits for GSIB banks\n",
    "insured_deposits_large_ex_GSIB = insured_deposits[insured_deposits['bank_ID'].isin(large_ex_GSIB)] #insured deposits for large non-GSIB banks\n",
    "insured_deposits_small = insured_deposits[insured_deposits['bank_ID'].isin(small)]"
   ]
  },
  {
   "cell_type": "code",
   "execution_count": null,
   "id": "e215f0a6",
   "metadata": {},
   "outputs": [],
   "source": [
    "bank_losses = calc_functions.report_losses(inital_date,analysis_date,df_RMBS_Final, df_loans_first_lien_domestic,\\\n",
    "                                            df_treasury_and_others, df_other_loan, treasury_prices, RMBS_Multiplier, df_asset)"
   ]
  },
  {
   "cell_type": "code",
   "execution_count": null,
   "id": "df10d9bb",
   "metadata": {},
   "outputs": [],
   "source": [
    "bank_losses_assets = bank_losses.copy()\n",
    "bank_losses_assets_small = calc_functions.report_losses(inital_date,analysis_date,df_RMBS_small, df_loans_first_lien_domestic_small, df_treasury_and_others_small, df_other_loan_small, treasury_prices, RMBS_Multiplier, df_asset_small)\n"
   ]
  },
  {
   "cell_type": "code",
   "execution_count": null,
   "id": "be4845aa",
   "metadata": {},
   "outputs": [],
   "source": [
    "bank_losses_assets_large_ex_GSIB = calc_functions.report_losses(inital_date,analysis_date,df_RMBS_large_ex_GSIB, df_loans_first_lien_domestic_large_ex_GSIB, df_treasury_and_others_large_ex_GSIB, df_other_loan_large_ex_GSIB, treasury_prices, RMBS_Multiplier, df_asset_large_ex_GSIB)"
   ]
  },
  {
   "cell_type": "code",
   "execution_count": null,
   "id": "4c25672d",
   "metadata": {},
   "outputs": [],
   "source": [
    "bank_losses_assets_GSIB = calc_functions.report_losses(inital_date,analysis_date,df_RMBS_GSIB, df_loans_first_lien_domestic_GSIB, df_treasury_and_others_GSIB, df_other_loan_GSIB, treasury_prices, RMBS_Multiplier, df_asset_GSIB)"
   ]
  },
  {
   "cell_type": "code",
   "execution_count": null,
   "id": "25b34852",
   "metadata": {},
   "outputs": [],
   "source": [
    "uninsured_deposit_mm_asset_small = calculate_uninsured_deposit_mm_asset(uninsured_deposit_small, bank_losses_assets_small)\n",
    "insured_deposit_coverage_small = insured_deposit_coverage_ratio(insured_deposits_small, uninsured_deposit_small, bank_losses_assets_small)\n",
    "uninsured_deposit_mm_asset_large_ex_GSIB = calculate_uninsured_deposit_mm_asset(uninsured_deposit_large_ex_GSIB, bank_losses_assets_large_ex_GSIB)\n",
    "insured_deposit_coverage_large_ex_GSIB = insured_deposit_coverage_large_ex_GSIB = insured_deposit_coverage_ratio(insured_deposits_large_ex_GSIB, uninsured_deposit_large_ex_GSIB, bank_losses_assets_large_ex_GSIB)\n",
    "uninsured_deposit_mm_asset_GSIB = calculate_uninsured_deposit_mm_asset(uninsured_deposit_GSIB, bank_losses_assets_GSIB)\n",
    "insured_deposit_coverage_GSIB = insured_deposit_coverage_ratio(insured_deposits_GSIB, uninsured_deposit_GSIB, bank_losses_assets_GSIB)\n",
    "    "
   ]
  },
  {
   "cell_type": "code",
   "execution_count": null,
   "id": "0e1f5ba4",
   "metadata": {},
   "outputs": [],
   "source": [
    "final_stats = final_statistic_table(bank_losses_assets, un_mm_ratio, coverage_ratios_df)\n",
    "final_stats_small = final_statistic_table(bank_losses_assets_small, uninsured_deposit_mm_asset_small, insured_deposit_coverage_small, index_name = 'Small Banks')\n",
    "final_stats_large_ex_GSIB = final_statistic_table(bank_losses_assets_large_ex_GSIB, uninsured_deposit_mm_asset_large_ex_GSIB, insured_deposit_coverage_large_ex_GSIB, index_name = 'Large Ex GSIB Banks')\n",
    "final_stats_GSIB = final_statistic_table(bank_losses_assets_GSIB, uninsured_deposit_mm_asset_GSIB, insured_deposit_coverage_GSIB, index_name = 'GSIB Banks')"
   ]
  },
  {
   "cell_type": "code",
   "execution_count": null,
   "id": "60b5d2ec",
   "metadata": {},
   "outputs": [],
   "source": [
    "table_1 = pd.concat([final_stats, final_stats_small, final_stats_large_ex_GSIB, final_stats_GSIB], axis=1)\n",
    "table_1"
   ]
  }
 ],
 "metadata": {
  "language_info": {
   "name": "python"
  }
 },
 "nbformat": 4,
 "nbformat_minor": 5
}
