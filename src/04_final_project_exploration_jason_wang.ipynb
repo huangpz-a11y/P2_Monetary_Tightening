{
 "cells": [
  {
   "cell_type": "markdown",
   "id": "52006e30",
   "metadata": {},
   "source": [
    "# Final Project Exploration"
   ]
  },
  {
   "cell_type": "code",
   "execution_count": null,
   "id": "7294cc66",
   "metadata": {},
   "outputs": [],
   "source": [
    "import pandas as pd\n",
    "import numpy as np \n",
    "import matplotlib.pyplot as plt\n",
    "import warnings\n",
    "warnings.filterwarnings(\"ignore\")"
   ]
  },
  {
   "cell_type": "code",
   "execution_count": null,
   "id": "12a38572",
   "metadata": {},
   "outputs": [],
   "source": [
    "#Downloading Data Series from WRDS\n",
    "rcfd_data_1 = pd.read_csv(r'../data/manual/ddss0fpozaxonboe.csv') #series 1 of rcfd\n",
    "rcfd_data_2 = pd.read_csv(r'../data/manual/dycfrwcdm9puanhs.csv') #series 2 of rcfd\n",
    "rcon_data_1 = pd.read_csv(r'../data/manual/m3pzkcjsgvk26dwa.csv') #series 1 of rcon\n",
    "rcon_data_2 = pd.read_csv(r'../data/manual/hwv0m9qml6efztsi.csv') #series 2 of rcon\n",
    "rcfn_data = pd.read_csv(r'../data/manual/cipzs5x6g2axzlhe.csv') #rcfn"
   ]
  },
  {
   "cell_type": "markdown",
   "id": "c363a7c1",
   "metadata": {},
   "source": [
    "# Assets"
   ]
  },
  {
   "cell_type": "code",
   "execution_count": null,
   "id": "1a7314d0",
   "metadata": {},
   "outputs": [],
   "source": [
    "#domestic and foreign branches\n",
    "asset_level_0 = rcfd_data_2[['RSSD9001','RSSD9017','RSSD9999','RCFD2170']]\n",
    "asset_level_0 = asset_level_0.fillna(0)\n",
    "filtered_asset_level_0 = asset_level_0[asset_level_0['RSSD9999'] == '03/31/2022']\n",
    "filtered_asset_level_0 "
   ]
  },
  {
   "cell_type": "code",
   "execution_count": null,
   "id": "10440a8d",
   "metadata": {},
   "outputs": [],
   "source": [
    "#domestic\n",
    "asset_level = rcon_data_2[['RSSD9001','RSSD9017','RSSD9999','RCON2170']]\n",
    "asset_level = asset_level.fillna(0)\n",
    "filtered_asset_level = asset_level[asset_level['RSSD9999'] == '03/31/2022']\n",
    "filtered_asset_level"
   ]
  },
  {
   "cell_type": "markdown",
   "id": "43ee3141",
   "metadata": {},
   "source": [
    "## Please ignore the GSIB analysis here"
   ]
  },
  {
   "cell_type": "code",
   "execution_count": null,
   "id": "6c0359a9",
   "metadata": {},
   "outputs": [],
   "source": [
    "GSIB = [852218, 480228, 476810, 413208, #JP Morgan, Bank of America, Citigroup, HSBC\n",
    "       2980209, 2182786, 541101, 655839, 1015560, 229913,#Barclays, Goldman Sachs, BNY Mellon, CCB COMMUNITY BANK, ICBC, Mizuho\n",
    "       1456501, 722777, 35301, 925411, 497404, 3212149, #Morgan Stanley, Santander, State Street, Sumitomo Mitsui, TD Bank, UBS\n",
    "       451965] #wells fargo"
   ]
  },
  {
   "cell_type": "code",
   "execution_count": null,
   "id": "e4c88bc2",
   "metadata": {},
   "outputs": [],
   "source": [
    "GSIB_asset_0 = filtered_asset_level_0[filtered_asset_level_0['RSSD9001'].isin(GSIB)]\n",
    "GSIB_asset_0"
   ]
  },
  {
   "cell_type": "code",
   "execution_count": null,
   "id": "4eed8469",
   "metadata": {},
   "outputs": [],
   "source": [
    "GSIB_asset = filtered_asset_level[filtered_asset_level['RSSD9001'].isin(GSIB)]\n",
    "GSIB_asset"
   ]
  },
  {
   "cell_type": "markdown",
   "id": "59bfb811",
   "metadata": {},
   "source": [
    "## Summing the Assets"
   ]
  },
  {
   "cell_type": "code",
   "execution_count": null,
   "id": "b92fdc3d",
   "metadata": {},
   "outputs": [],
   "source": [
    "asset_level_0 = rcfd_data_2[['RSSD9001','RSSD9017','RSSD9999','RCFD2170']]\n",
    "asset_level_0 = asset_level_0.dropna()\n",
    "filtered_asset_level_0 = asset_level_0[asset_level_0['RSSD9999'] == '03/31/2022']\n",
    "asset_level = rcon_data_2[['RSSD9001','RSSD9017','RSSD9999','RCON2170']]\n",
    "asset_level = asset_level.dropna()\n",
    "filtered_asset_level = asset_level[asset_level['RSSD9999'] == '03/31/2022']\n",
    "\n",
    "\n",
    "\n",
    "filtered_asset_level_0 = filtered_asset_level_0.rename(columns={\n",
    "    'RCFD2170': 'Total Asset'})\n",
    "filtered_asset_level = filtered_asset_level.rename(columns={\n",
    "    'RCON2170': 'Total Asset'})\n",
    "\n",
    "\n",
    "df_asset = pd.concat([filtered_asset_level_0, filtered_asset_level])\n",
    "total_asset = df_asset['Total Asset'].sum() #total asset across banks\n",
    "total_asset "
   ]
  },
  {
   "cell_type": "code",
   "execution_count": null,
   "id": "135c2e63",
   "metadata": {},
   "outputs": [],
   "source": [
    "df_asset"
   ]
  },
  {
   "cell_type": "markdown",
   "id": "90bc69f1",
   "metadata": {},
   "source": [
    "## Creating a dataframe for total/gross asset for each bank"
   ]
  },
  {
   "cell_type": "code",
   "execution_count": null,
   "id": "78c0a64f",
   "metadata": {},
   "outputs": [],
   "source": [
    "gross_asset = df_asset[['RSSD9001','RSSD9017', 'RSSD9999', 'Total Asset']]\n",
    "\n",
    "gross_asset  = gross_asset.rename(columns={\n",
    "    'RSSD9001': 'Bank_ID',\n",
    "    'RSSD9017': 'bank_name',\n",
    "    'RSSD9999': 'report_date',\n",
    "    'Total Asset': 'gross_asset',\n",
    "})\n",
    "gross_asset"
   ]
  },
  {
   "cell_type": "markdown",
   "id": "e6aebef5",
   "metadata": {},
   "source": [
    "# LOANS"
   ]
  },
  {
   "cell_type": "markdown",
   "id": "0823f176",
   "metadata": {},
   "source": [
    "## Residential Loans with repricing maturity (secured by first liens)"
   ]
  },
  {
   "cell_type": "code",
   "execution_count": null,
   "id": "dd328daa",
   "metadata": {},
   "outputs": [],
   "source": [
    "df_loans_first_lien_domestic = rcon_data_1[['RSSD9001','RSSD9017', 'RSSD9999', 'RCONA564', 'RCONA565', 'RCONA566', 'RCONA567', 'RCONA568', 'RCONA569']]\n",
    "df_loans_first_lien_domestic = df_loans_first_lien_domestic.rename(columns={\n",
    "    'RSSD9001': 'Bank_ID',\n",
    "    'RSSD9017': 'bank_name',\n",
    "    'RSSD9999': 'report_date',\n",
    "    'RCONA564': '<3m',\n",
    "    'RCONA565': '3m-1y',\n",
    "    'RCONA566': '1y-3y',\n",
    "    'RCONA567': '3y-5y',\n",
    "    'RCONA568': '5y-15y',\n",
    "    'RCONA569': '>15y'\n",
    "})\n",
    "df_loans_first_lien_domestic = df_loans_first_lien_domestic[df_loans_first_lien_domestic['report_date'] == '03/31/2022']\n",
    "df_loans_first_lien_domestic"
   ]
  },
  {
   "cell_type": "markdown",
   "id": "b2ae0492",
   "metadata": {},
   "source": [
    "## Loans and Leases (not-secured by first liens)"
   ]
  },
  {
   "cell_type": "code",
   "execution_count": null,
   "id": "304982a0",
   "metadata": {},
   "outputs": [],
   "source": [
    "df_loans_exc_first_lien = rcfd_data_1[['RSSD9001','RSSD9017', 'RSSD9999', 'RCFDA570', 'RCFDA571', 'RCFDA572', 'RCFDA573', 'RCFDA574', 'RCFDA575']]\n",
    "df_loans_exc_first_lien = df_loans_exc_first_lien.rename(columns={\n",
    "    'RSSD9001': 'Bank_ID',\n",
    "    'RSSD9017': 'bank_name',\n",
    "    'RSSD9999': 'report_date',\n",
    "    'RCFDA570': '<3m',\n",
    "    'RCFDA571': '3m-1y',\n",
    "    'RCFDA572': '1y-3y',\n",
    "    'RCFDA573': '3y-5y',\n",
    "    'RCFDA574': '5y-15y',\n",
    "    'RCFDA575': '>15y'\n",
    "})\n",
    "df_loans_exc_first_lien = df_loans_exc_first_lien.dropna()\n",
    "df_loans_exc_first_lien = df_loans_exc_first_lien[df_loans_exc_first_lien['report_date'] == '03/31/2022']\n",
    "df_loans_exc_first_lien"
   ]
  },
  {
   "cell_type": "code",
   "execution_count": null,
   "id": "00f09f4a",
   "metadata": {},
   "outputs": [],
   "source": [
    "df_loans_exc_first_lien_domestic = rcon_data_2[['RSSD9001', 'RSSD9017', 'RSSD9999', 'RCONA570', 'RCONA571', 'RCONA572', 'RCONA573', 'RCONA574', 'RCONA575']]\n",
    "df_loans_exc_first_lien_domestic = df_loans_exc_first_lien_domestic.rename(columns={\n",
    "    'RSSD9001': 'Bank_ID',\n",
    "    'RSSD9017': 'bank_name',\n",
    "    'RSSD9999': 'report_date',\n",
    "    'RCONA570': '<3m',\n",
    "    'RCONA571': '3m-1y',\n",
    "    'RCONA572': '1y-3y',\n",
    "    'RCONA573': '3y-5y',\n",
    "    'RCONA574': '5y-15y',\n",
    "    'RCONA575': '>15y'\n",
    "})\n",
    "df_loans_exc_first_lien_domestic = df_loans_exc_first_lien_domestic.dropna()\n",
    "df_loans_exc_first_lien_domestic = df_loans_exc_first_lien_domestic[df_loans_exc_first_lien_domestic['report_date'] == '03/31/2022']\n",
    "df_loans_exc_first_lien_domestic"
   ]
  },
  {
   "cell_type": "code",
   "execution_count": null,
   "id": "4d6fbae7",
   "metadata": {},
   "outputs": [],
   "source": [
    "df_other_loan = pd.concat([df_loans_exc_first_lien_domestic, df_loans_exc_first_lien])\n",
    "df_other_loan = df_other_loan.sort_index()"
   ]
  },
  {
   "cell_type": "markdown",
   "id": "68d98ca5",
   "metadata": {},
   "source": [
    "# RMBs"
   ]
  },
  {
   "cell_type": "code",
   "execution_count": null,
   "id": "2166513c",
   "metadata": {},
   "outputs": [],
   "source": [
    "df_RMBS = rcfd_data_1[['RSSD9001', 'RSSD9017', 'RSSD9999', 'RCFDA555', 'RCFDA556', 'RCFDA557', 'RCFDA558', 'RCFDA559', 'RCFDA560']]\n",
    "df_RMBS = df_RMBS.rename(columns={\n",
    "    'RSSD9001': 'Bank_ID',\n",
    "    'RSSD9017': 'bank_name',\n",
    "    'RSSD9999': 'report_date',\n",
    "    'RCFDA555': '<3m',\n",
    "    'RCFDA556': '3m-1y',\n",
    "    'RCFDA557': '1y-3y',\n",
    "    'RCFDA558': '3y-5y',\n",
    "    'RCFDA559': '5y-15y',\n",
    "    'RCFDA560': '>15y'\n",
    "})\n",
    "df_RMBS = df_RMBS.dropna()\n",
    "df_RMBS = df_RMBS[df_RMBS['report_date'] == '03/31/2022']\n",
    "df_RMBS"
   ]
  },
  {
   "cell_type": "code",
   "execution_count": null,
   "id": "9e53c5f8",
   "metadata": {},
   "outputs": [],
   "source": [
    "#Form 051 - Domestic\n",
    "df_RMBS_dom = rcon_data_1[['RSSD9001','RSSD9017', 'RSSD9999', 'RCONA555', 'RCONA556', 'RCONA557', 'RCONA558', 'RCONA559', 'RCONA560']]\n",
    "df_RMBS_dom = df_RMBS_dom.rename(columns={\n",
    "    'RSSD9001': 'Bank_ID',\n",
    "    'RSSD9017': 'bank_name',\n",
    "    'RSSD9999': 'report_date',\n",
    "    'RCONA555': '<3m',\n",
    "    'RCONA556': '3m-1y',\n",
    "    'RCONA557': '1y-3y',\n",
    "    'RCONA558': '3y-5y',\n",
    "    'RCONA559': '5y-15y',\n",
    "    'RCONA560': '>15y'\n",
    "})\n",
    "df_RMBS_dom = df_RMBS_dom.dropna()\n",
    "df_RMBS_dom = df_RMBS_dom[df_RMBS_dom['report_date'] == '03/31/2022']\n",
    "df_RMBS_dom"
   ]
  },
  {
   "cell_type": "code",
   "execution_count": null,
   "id": "931807f4",
   "metadata": {},
   "outputs": [],
   "source": [
    "df_RMBS_Final = pd.concat([df_RMBS_dom, df_RMBS])\n",
    "df_RMBS_Final = df_RMBS_Final.sort_index()\n",
    "df_RMBS_Final"
   ]
  },
  {
   "cell_type": "markdown",
   "id": "25d5b3e8",
   "metadata": {},
   "source": [
    "# Treausurys and Other (non-RMBs)"
   ]
  },
  {
   "cell_type": "code",
   "execution_count": null,
   "id": "48ea578c",
   "metadata": {},
   "outputs": [],
   "source": [
    "df_non_RMBS = rcfd_data_2[['RSSD9001','RSSD9017', 'RSSD9999', 'RCFDA549', 'RCFDA550', 'RCFDA551', 'RCFDA552', 'RCFDA553', 'RCFDA554']]\n",
    "df_non_RMBS = df_non_RMBS.rename(columns={\n",
    "    'RSSD9001': 'Bank_ID',\n",
    "    'RSSD9017': 'bank_name',\n",
    "    'RSSD9999': 'report_date',\n",
    "    'RCFDA549': '<3m',\n",
    "    'RCFDA550': '3m-1y',\n",
    "    'RCFDA551': '1y-3y',\n",
    "    'RCFDA552': '3y-5y',\n",
    "    'RCFDA553': '5y-15y',\n",
    "    'RCFDA554': '>15y'\n",
    "})\n",
    "df_non_RMBS = df_non_RMBS.dropna()\n",
    "df_non_RMBS = df_non_RMBS[df_non_RMBS['report_date'] == '03/31/2022']\n",
    "df_non_RMBS"
   ]
  },
  {
   "cell_type": "code",
   "execution_count": null,
   "id": "c2724bb9",
   "metadata": {},
   "outputs": [],
   "source": [
    "#Form 051 - Domestic\n",
    "df_non_RMBS_dom = rcon_data_2[['RSSD9001','RSSD9017','RSSD9999', 'RCONA549', 'RCONA550', 'RCONA551', 'RCONA552', 'RCONA553', 'RCONA554']]\n",
    "df_non_RMBS_dom = df_non_RMBS_dom.rename(columns={\n",
    "    'RSSD9001': 'Bank_ID',\n",
    "    'RSSD9017': 'bank_name',\n",
    "    'RSSD9999': 'report_date',\n",
    "    'RCONA549': '<3m',\n",
    "    'RCONA550': '3m-1y',\n",
    "    'RCONA551': '1y-3y',\n",
    "    'RCONA552': '3y-5y',\n",
    "    'RCONA553': '5y-15y',\n",
    "    'RCONA554': '>15y'\n",
    "})\n",
    "df_non_RMBS_dom = df_non_RMBS_dom.dropna()\n",
    "df_non_RMBS_dom = df_non_RMBS_dom[df_non_RMBS_dom['report_date'] == '03/31/2022']\n",
    "df_non_RMBS_dom"
   ]
  },
  {
   "cell_type": "code",
   "execution_count": null,
   "id": "f1899b39",
   "metadata": {},
   "outputs": [],
   "source": [
    "df_treasury_and_others = pd.concat([df_non_RMBS_dom, df_non_RMBS])\n",
    "df_treasury_and_others = df_treasury_and_others.sort_index()\n",
    "df_treasury_and_others "
   ]
  },
  {
   "cell_type": "markdown",
   "id": "bedff8de",
   "metadata": {},
   "source": [
    "# Additional Data (Ignore, I didnt use these for the table)"
   ]
  },
  {
   "cell_type": "code",
   "execution_count": null,
   "id": "161a93f2",
   "metadata": {},
   "outputs": [],
   "source": [
    "df_other_MBS = rcfd_data_1[['RSSD9001','RSSD9017', 'RSSD9999', 'RCFDA561', 'RCFDA562']]\n",
    "df_other_MBS = df_other_MBS .rename(columns={\n",
    "    'RSSD9001': 'Bank_ID',\n",
    "    'RSSD9017': 'bank_name',\n",
    "    'RSSD9999': 'report_date',\n",
    "    'RCFDA561': '<3y',\n",
    "    'RCFDA562': '>3y',\n",
    "})\n",
    "df_other_MBS = df_other_MBS.dropna()\n",
    "df_other_MBS  = df_other_MBS[df_other_MBS['report_date'] == '03/31/2022']\n",
    "df_other_MBS "
   ]
  },
  {
   "cell_type": "code",
   "execution_count": null,
   "id": "64f24a37",
   "metadata": {},
   "outputs": [],
   "source": [
    "df_other_MBS_domestic = rcon_data_2[['RSSD9001','RSSD9017', 'RSSD9999', 'RCONA561', 'RCONA562']]\n",
    "df_other_MBS_domestic = df_other_MBS_domestic.rename(columns={\n",
    "    'RSSD9001': 'Bank_ID',\n",
    "    'RSSD9017': 'bank_name',\n",
    "    'RSSD9999': 'report_date',\n",
    "    'RCONA561': '<3y',\n",
    "    'RCONA562': '>3y',\n",
    "})\n",
    "df_other_MBS_domestic  = df_other_MBS_domestic.dropna()\n",
    "df_other_MBS_domestic  = df_other_MBS_domestic[df_other_MBS_domestic['report_date'] == '03/31/2022']\n",
    "df_other_MBS_domestic "
   ]
  },
  {
   "cell_type": "code",
   "execution_count": null,
   "id": "4949fc08",
   "metadata": {},
   "outputs": [],
   "source": [
    "df_other_MBS_total = pd.concat([df_other_MBS, df_other_MBS_domestic])\n",
    "df_other_MBS_total"
   ]
  },
  {
   "cell_type": "code",
   "execution_count": null,
   "id": "7abfd081",
   "metadata": {},
   "outputs": [],
   "source": [
    "df_other_loan_lease = rcfd_data_1[['RSSD9001','RSSD9017', 'RSSD9999', 'RCFDA247']]\n",
    "df_other_loan_lease = df_other_loan_lease.rename(columns={\n",
    "    'RSSD9001': 'Bank_ID',\n",
    "    'RSSD9017': 'bank_name',\n",
    "    'RSSD9999': 'report_date',\n",
    "    'RCFDA247': '<1y'\n",
    "\n",
    "})\n",
    "df_other_loan_lease = df_other_loan_lease.dropna()\n",
    "df_other_loan_lease = df_other_loan_lease[df_other_loan_lease['report_date'] == '03/31/2022']\n",
    "df_other_loan_lease"
   ]
  },
  {
   "cell_type": "code",
   "execution_count": null,
   "id": "38c4abc0",
   "metadata": {},
   "outputs": [],
   "source": [
    "df_other_loan_lease_domestic = rcon_data_1[['RSSD9001','RSSD9017', 'RSSD9999', 'RCONA247']]\n",
    "df_other_loan_lease_domestic = df_other_loan_lease_domestic.rename(columns={\n",
    "    'RSSD9001': 'Bank_ID',\n",
    "    'RSSD9017': 'bank_name',\n",
    "    'RSSD9999': 'report_date',\n",
    "    'RCONA247': '<1y',\n",
    "})\n",
    "df_other_loan_lease_domestic = df_other_loan_lease_domestic.dropna()\n",
    "df_other_loan_lease_domestic = df_other_loan_lease_domestic[df_other_loan_lease_domestic['report_date'] == '03/31/2022']\n",
    "df_other_loan_lease_domestic"
   ]
  },
  {
   "cell_type": "code",
   "execution_count": null,
   "id": "b38e688f",
   "metadata": {},
   "outputs": [],
   "source": [
    "df_total_other_loan_lease = pd.concat([df_other_loan_lease, df_other_loan_lease_domestic])\n",
    "df_total_other_loan_lease"
   ]
  },
  {
   "cell_type": "markdown",
   "id": "b2d3d916",
   "metadata": {},
   "source": [
    " "
   ]
  },
  {
   "cell_type": "markdown",
   "id": "c098a04a",
   "metadata": {},
   "source": [
    " "
   ]
  },
  {
   "cell_type": "markdown",
   "id": "d2c2c613",
   "metadata": {},
   "source": [
    " "
   ]
  },
  {
   "cell_type": "markdown",
   "id": "37afd883",
   "metadata": {},
   "source": [
    " "
   ]
  },
  {
   "cell_type": "markdown",
   "id": "4eb23ce2",
   "metadata": {},
   "source": [
    " "
   ]
  },
  {
   "cell_type": "markdown",
   "id": "86e13bf0",
   "metadata": {},
   "source": [
    " "
   ]
  },
  {
   "cell_type": "markdown",
   "id": "3529ae85",
   "metadata": {},
   "source": [
    " "
   ]
  },
  {
   "cell_type": "markdown",
   "id": "bcda7327",
   "metadata": {},
   "source": [
    " "
   ]
  },
  {
   "cell_type": "markdown",
   "id": "45ccc0bb",
   "metadata": {},
   "source": [
    "# Asset Decomposition"
   ]
  },
  {
   "cell_type": "code",
   "execution_count": null,
   "id": "e41fbba4",
   "metadata": {},
   "outputs": [],
   "source": [
    "def sum_assets_and_compute_percentage(df_RMBS_Final, df_loans_first_lien_domestic, df_treasury_and_others, df_other_loan):\n",
    "    # Sum across rows for each DataFrame\n",
    "    total_assets_sum = 0\n",
    "    for df in [df_RMBS_Final, df_loans_first_lien_domestic, df_treasury_and_others, df_other_loan]:\n",
    "        total = df[['<3m', '3m-1y', '1y-3y', '3y-5y', '5y-15y', '>15y']].sum().sum()\n",
    "        total_assets_sum += total\n",
    "\n",
    "    return total_assets_sum"
   ]
  },
  {
   "cell_type": "code",
   "execution_count": null,
   "id": "2378739b",
   "metadata": {},
   "outputs": [],
   "source": [
    "sum_asset =  sum_assets_and_compute_percentage(df_RMBS_Final, df_loans_first_lien_domestic, df_treasury_and_others, df_other_loan)\n",
    "sum_asset"
   ]
  },
  {
   "cell_type": "code",
   "execution_count": null,
   "id": "0197f339",
   "metadata": {},
   "outputs": [],
   "source": [
    "sum_asset/total_asset"
   ]
  },
  {
   "cell_type": "code",
   "execution_count": null,
   "id": "d864b21a",
   "metadata": {},
   "outputs": [],
   "source": [
    "total_asset"
   ]
  },
  {
   "cell_type": "code",
   "execution_count": null,
   "id": "a0b5022c",
   "metadata": {},
   "outputs": [],
   "source": [
    "RMBS = df_RMBS_Final[['<3m', '3m-1y', '1y-3y', '3y-5y', '5y-15y', '>15y']].sum().sum()\n",
    "a = RMBS / total_asset\n",
    "a"
   ]
  },
  {
   "cell_type": "code",
   "execution_count": null,
   "id": "51ab438d",
   "metadata": {},
   "outputs": [],
   "source": [
    "df_loans = df_loans_first_lien_domestic[['<3m', '3m-1y', '1y-3y', '3y-5y', '5y-15y', '>15y']].sum().sum()\n",
    "b = df_loans / total_asset\n",
    "b"
   ]
  },
  {
   "cell_type": "code",
   "execution_count": null,
   "id": "5569f81c",
   "metadata": {},
   "outputs": [],
   "source": [
    "df_treasury = df_treasury_and_others[['<3m', '3m-1y', '1y-3y', '3y-5y', '5y-15y', '>15y']].sum().sum()\n",
    "c = df_treasury / total_asset\n",
    "c"
   ]
  },
  {
   "cell_type": "code",
   "execution_count": null,
   "id": "eb5914e1",
   "metadata": {},
   "outputs": [],
   "source": [
    "df_other_ln = df_other_loan[['<3m', '3m-1y', '1y-3y', '3y-5y', '5y-15y', '>15y']].sum().sum()\n",
    "d = df_other_ln / total_asset\n",
    "d"
   ]
  },
  {
   "cell_type": "code",
   "execution_count": null,
   "id": "5e5b0373",
   "metadata": {},
   "outputs": [],
   "source": [
    "df_other_MBS = df_other_MBS_total[['<3y', '>3y']].sum().sum()\n",
    "e = df_other_MBS  / total_asset\n",
    "e"
   ]
  },
  {
   "cell_type": "code",
   "execution_count": null,
   "id": "636b9936",
   "metadata": {},
   "outputs": [],
   "source": [
    "df_total_other_ll = df_total_other_loan_lease['<1y'].sum()\n",
    "f = df_total_other_ll / total_asset\n",
    "f"
   ]
  },
  {
   "cell_type": "code",
   "execution_count": null,
   "id": "c7b1ff83",
   "metadata": {},
   "outputs": [],
   "source": [
    "a+b+c+d+e #matches with the function above"
   ]
  },
  {
   "cell_type": "markdown",
   "id": "2e6c3b28",
   "metadata": {},
   "source": [
    "## roughly the same as the security component (see Panel A)"
   ]
  },
  {
   "cell_type": "code",
   "execution_count": null,
   "id": "724cef75",
   "metadata": {},
   "outputs": [],
   "source": [
    "a+e+c"
   ]
  },
  {
   "cell_type": "markdown",
   "id": "8066a4e3",
   "metadata": {},
   "source": [
    "## roughly the same as the total loan component (see Panel A)"
   ]
  },
  {
   "cell_type": "code",
   "execution_count": null,
   "id": "eb7d21da",
   "metadata": {},
   "outputs": [],
   "source": [
    "d+b"
   ]
  },
  {
   "cell_type": "markdown",
   "id": "6d517953",
   "metadata": {},
   "source": [
    " "
   ]
  },
  {
   "cell_type": "markdown",
   "id": "55e9fc20",
   "metadata": {},
   "source": [
    " "
   ]
  },
  {
   "cell_type": "markdown",
   "id": "9260b333",
   "metadata": {},
   "source": [
    " "
   ]
  },
  {
   "cell_type": "markdown",
   "id": "14cd36bb",
   "metadata": {},
   "source": [
    " "
   ]
  },
  {
   "cell_type": "markdown",
   "id": "785504fd",
   "metadata": {},
   "source": [
    " "
   ]
  },
  {
   "cell_type": "markdown",
   "id": "ab3cbe2f",
   "metadata": {},
   "source": [
    " "
   ]
  },
  {
   "cell_type": "markdown",
   "id": "495a1ffd",
   "metadata": {},
   "source": [
    " "
   ]
  },
  {
   "cell_type": "markdown",
   "id": "9396c7c9",
   "metadata": {},
   "source": [
    " "
   ]
  },
  {
   "cell_type": "markdown",
   "id": "b53ba012",
   "metadata": {},
   "source": [
    " "
   ]
  },
  {
   "cell_type": "markdown",
   "id": "11bd5335",
   "metadata": {},
   "source": [
    " "
   ]
  },
  {
   "cell_type": "markdown",
   "id": "4d6ebbad",
   "metadata": {},
   "source": [
    " "
   ]
  },
  {
   "cell_type": "markdown",
   "id": "b876a319",
   "metadata": {},
   "source": [
    " "
   ]
  },
  {
   "cell_type": "markdown",
   "id": "979fa66b",
   "metadata": {},
   "source": [
    " "
   ]
  },
  {
   "cell_type": "markdown",
   "id": "30232450",
   "metadata": {},
   "source": [
    " "
   ]
  },
  {
   "cell_type": "markdown",
   "id": "e208a5b5",
   "metadata": {},
   "source": [
    " "
   ]
  },
  {
   "cell_type": "markdown",
   "id": "6b54df83",
   "metadata": {},
   "source": [
    " "
   ]
  },
  {
   "cell_type": "markdown",
   "id": "b11c1d30",
   "metadata": {},
   "source": [
    " "
   ]
  },
  {
   "cell_type": "markdown",
   "id": "cd6d7b92",
   "metadata": {},
   "source": [
    " "
   ]
  },
  {
   "cell_type": "markdown",
   "id": "c67fadf5",
   "metadata": {},
   "source": [
    " "
   ]
  },
  {
   "cell_type": "markdown",
   "id": "9c0a9ca9",
   "metadata": {},
   "source": [
    " "
   ]
  },
  {
   "cell_type": "markdown",
   "id": "e52b3581",
   "metadata": {},
   "source": [
    " "
   ]
  },
  {
   "cell_type": "markdown",
   "id": "92de1859",
   "metadata": {},
   "source": [
    " "
   ]
  },
  {
   "cell_type": "markdown",
   "id": "c2875e4a",
   "metadata": {},
   "source": [
    " "
   ]
  },
  {
   "cell_type": "markdown",
   "id": "5f6091d7",
   "metadata": {},
   "source": [
    "# Table Analysis (Below are the contents for first column of table 1)"
   ]
  },
  {
   "cell_type": "markdown",
   "id": "88ee3d68",
   "metadata": {},
   "source": [
    "# 1. Aggregate Loss and Bank Loss (include each share)"
   ]
  },
  {
   "cell_type": "markdown",
   "id": "52bc311d",
   "metadata": {},
   "source": [
    "###  Treasury prices"
   ]
  },
  {
   "cell_type": "code",
   "execution_count": null,
   "id": "edc57d30",
   "metadata": {},
   "outputs": [],
   "source": [
    "combined_index_df = pd.read_excel('../data/manual/combined_index_df.xlsx')\n",
    "treasury_prices = combined_index_df[['date', 'iShares 0-1', 'iShares 1-3', 'sp 3-5', 'iShares 7-10', 'iShares 10-20', 'iShares 20+']]\n",
    "treasury_prices = treasury_prices.set_index('date')\n",
    "treasury_prices = treasury_prices.resample('Q').first()\n",
    "treasury_prices = treasury_prices.loc['2022-03-31':'2023-03-31']\n",
    "treasury_prices"
   ]
  },
  {
   "cell_type": "code",
   "execution_count": null,
   "id": "0b315604",
   "metadata": {},
   "outputs": [],
   "source": [
    "df_SP_Treasury_bond_index = pd.read_excel(r'../data/manual/PerformanceGraphExport.xlsx')\n",
    "#df_SP_Treasury_bond_index['date'] = df_SP_Treasury_bond_index['date'].dt.strftime('%Y-%m-%d')\n",
    "df_SP_Treasury_bond_index = df_SP_Treasury_bond_index.set_index('date')\n",
    "df_SP_Treasury_bond_index = df_SP_Treasury_bond_index.resample('Q').first()\n",
    "df_SP_Treasury_bond_index = df_SP_Treasury_bond_index.loc['2022-03-31':'2023-03-31']\n",
    "df_SP_Treasury_bond_index"
   ]
  },
  {
   "cell_type": "code",
   "execution_count": null,
   "id": "014a34ef",
   "metadata": {},
   "outputs": [],
   "source": [
    "df_iShare_MBS_ETF = pd.read_csv(r'../data/manual/MBB.csv')\n",
    "df_iShare_MBS_ETF = df_iShare_MBS_ETF[['Date', 'Adj Close']]\n",
    "df_iShare_MBS_ETF['Date'] = pd.to_datetime(df_iShare_MBS_ETF['Date'])\n",
    "df_iShare_MBS_ETF.set_index('Date', inplace=True)\n",
    "df_iShare_MBS_ETF = df_iShare_MBS_ETF.resample('Q').first()\n",
    "df_iShare_MBS_ETF.index.rename('date', inplace=True)\n",
    "df_iShare_MBS_ETF = df_iShare_MBS_ETF.loc['2022-03-31':'2023-03-31']\n",
    "df_iShare_MBS_ETF"
   ]
  },
  {
   "cell_type": "code",
   "execution_count": null,
   "id": "1b4e41c6",
   "metadata": {},
   "outputs": [],
   "source": [
    "def RMBs_Multiplier(df_SP_Treasury_bond_index, df_iShare_MBS_ETF):\n",
    "  \n",
    "    upper_treasury = df_SP_Treasury_bond_index.loc['2023-03-31', 'S&P U.S. Treasury Bond Index']\n",
    "    lower_treasury = df_SP_Treasury_bond_index.loc['2022-03-31', 'S&P U.S. Treasury Bond Index']\n",
    "    \n",
    "    upper_MBS = df_iShare_MBS_ETF.loc['2023-03-31', 'Adj Close']\n",
    "    lower_MBS = df_iShare_MBS_ETF.loc['2022-03-31', 'Adj Close']\n",
    "    \n",
    "    MBS_change = (upper_MBS / lower_MBS) - 1\n",
    "    treasury_change = (upper_treasury / lower_treasury) - 1\n",
    "    multiplier = MBS_change / treasury_change\n",
    "    \n",
    "    return multiplier"
   ]
  },
  {
   "cell_type": "code",
   "execution_count": null,
   "id": "bfd15f36",
   "metadata": {},
   "outputs": [],
   "source": [
    "RMBS_Multiplier = RMBs_Multiplier(df_SP_Treasury_bond_index, df_iShare_MBS_ETF)\n",
    "RMBS_Multiplier"
   ]
  },
  {
   "cell_type": "code",
   "execution_count": null,
   "id": "bdeafce6",
   "metadata": {},
   "outputs": [],
   "source": [
    "#Create copies for each dataframe\n",
    "df_RMBS_Final_1 = df_RMBS_Final.copy() \n",
    "df_loans_first_lien_domestic_1 = df_loans_first_lien_domestic.copy()\n",
    "df_treasury_and_others_1 = df_treasury_and_others.copy()\n",
    "df_other_loan_1 = df_other_loan.copy()"
   ]
  },
  {
   "cell_type": "code",
   "execution_count": null,
   "id": "6a52990d",
   "metadata": {},
   "outputs": [],
   "source": [
    "def report_losses(df_RMBS_Final, df_loans_first_lien_domestic, df_treasury_and_others, df_other_loan, treasury_prices, RMBS_multiplier, gross_asset):\n",
    "    \n",
    "    #for df in [df_RMBS_Final, df_loans_first_lien_domestic, df_treasury_and_others, df_other_loan]:\n",
    "       # df['<1y'] = df['<3m'] + df['3m-1y']\n",
    "        \n",
    "    \n",
    "    price_change = {\n",
    "        '<1y': treasury_prices.loc['2023-03-31', 'iShares 0-1'] / treasury_prices.loc['2022-03-31', 'iShares 0-1'] - 1,\n",
    "        '1y-3y': treasury_prices.loc['2023-03-31', 'iShares 1-3'] / treasury_prices.loc['2022-03-31', 'iShares 1-3'] - 1,\n",
    "        '3y-5y': treasury_prices.loc['2023-03-31', 'sp 3-5'] / treasury_prices.loc['2022-03-31', 'sp 3-5'] - 1,\n",
    "        '7y-10y': 0.5 * (treasury_prices.loc['2023-03-31', 'iShares 7-10'] / treasury_prices.loc['2022-03-31', 'iShares 7-10'] - 1) + 0.5 * (treasury_prices.loc['2023-03-31', 'iShares 10-20'] / treasury_prices.loc['2022-03-31', 'iShares 10-20'] - 1),\n",
    "        '>20y': treasury_prices.loc['2023-03-31', 'iShares 20+'] / treasury_prices.loc['2022-03-31', 'iShares 20+'] - 1,\n",
    "    }\n",
    "\n",
    "    bucket_mapping = {\n",
    "        '<3m': '<1y',\n",
    "        '3m-1y': '<1y',\n",
    "        '1y-3y': '1y-3y',\n",
    "        '3y-5y': '3y-5y',\n",
    "        '5y-15y': '7y-10y',  # Assuming '5y-15y' should be mapped to '7y-10y' based on provided price_change calculation\n",
    "        '>15y': '>20y',\n",
    "    }\n",
    "    \n",
    "    aggregated_assets = {}\n",
    "    for name, df in zip(['RMBS', 'Loans', 'Treasury', 'OtherLoan'], \n",
    "                        [df_RMBS_Final, df_loans_first_lien_domestic, df_treasury_and_others, df_other_loan]):\n",
    "        # Ensure columns for aggregation are present\n",
    "        columns_to_aggregate = [col for col in list(bucket_mapping.keys()) if col in df.columns]\n",
    "        aggregated_assets[name] = df.groupby(['bank_name', 'Bank_ID'])[columns_to_aggregate].sum().reset_index()\n",
    "    \n",
    "    # Initialize DataFrame to store results\n",
    "    bank_losses_assets = pd.DataFrame(columns=[\n",
    "        'bank_name', 'bank_ID', 'RMBs_loss', 'treasury_loss', 'loans_loss', 'other_loan_loss', \n",
    "        'total_loss', 'Share RMBs', 'Share Treasury and Other', \n",
    "        'Share Residential Mortgage', 'Share Other Loan', 'RMBs_asset', 'treasury_asset', \n",
    "        'residential_mortgage_asset', 'other_loan_asset', 'core_asset', 'gross_asset', 'loss/core_asset', 'loss/gross_asset',\n",
    "    ])\n",
    "    \n",
    "    for _, gross_row in gross_asset.iterrows():\n",
    "        bank = gross_row['bank_name']\n",
    "        bank_id = gross_row['Bank_ID']\n",
    "        bank_gross_asset = gross_row['gross_asset']\n",
    "        \n",
    "        # Initialize variables for loss and asset calculations\n",
    "        rmbs_loss = loans_loss = treasury_loss = other_loan_loss = total_loss = 0\n",
    "        rmbs_asset = treasury_asset = loan_asset = other_loan_asset = core_asset = 0\n",
    "        \n",
    "        # Process RMBS assets\n",
    "        if 'RMBS' in aggregated_assets and not aggregated_assets['RMBS'].empty:\n",
    "            rmbs_row = aggregated_assets['RMBS'][(aggregated_assets['RMBS']['bank_name'] == bank) & (aggregated_assets['RMBS']['Bank_ID'] == bank_id)]\n",
    "            for bucket, treasury_bucket in bucket_mapping.items():\n",
    "                if bucket in rmbs_row.columns:\n",
    "                    asset_amount = rmbs_row.iloc[0][bucket] if not rmbs_row.empty else 0\n",
    "                    rmbs_loss += (asset_amount * RMBS_multiplier * price_change[treasury_bucket])\n",
    "                    rmbs_asset += asset_amount\n",
    "                    \n",
    "        # Loans\n",
    "        loans_row = aggregated_assets['Loans'][(aggregated_assets['Loans']['bank_name'] == bank) & (aggregated_assets['Loans']['Bank_ID'] == bank_id)]\n",
    "        if not loans_row.empty:\n",
    "            for bucket, treasury_bucket in bucket_mapping.items():\n",
    "                if bucket in loans_row.columns:\n",
    "                    asset_amount = loans_row.iloc[0][bucket]\n",
    "                    loans_loss += (asset_amount * RMBS_multiplier * price_change[treasury_bucket])\n",
    "                    loan_asset += asset_amount\n",
    "\n",
    "        # Treasury\n",
    "        treasury_row = aggregated_assets['Treasury'][(aggregated_assets['Treasury']['bank_name'] == bank) & (aggregated_assets['Treasury']['Bank_ID'] == bank_id)]\n",
    "        if not treasury_row.empty:\n",
    "            for bucket, treasury_bucket in bucket_mapping.items():\n",
    "                if bucket in treasury_row.columns:\n",
    "                    asset_amount = treasury_row.iloc[0][bucket]\n",
    "                    treasury_loss += (asset_amount * price_change[treasury_bucket])\n",
    "                    treasury_asset += asset_amount\n",
    "\n",
    "        # OtherLoan\n",
    "        other_loan_row = aggregated_assets['OtherLoan'][(aggregated_assets['OtherLoan']['bank_name'] == bank) & (aggregated_assets['OtherLoan']['Bank_ID'] == bank_id)]\n",
    "        if not other_loan_row.empty:\n",
    "            for bucket, treasury_bucket in bucket_mapping.items():\n",
    "                if bucket in other_loan_row.columns:\n",
    "                    asset_amount = other_loan_row.iloc[0][bucket]\n",
    "                    other_loan_loss += (asset_amount * price_change[treasury_bucket])\n",
    "                    other_loan_asset += asset_amount\n",
    "                \n",
    "        total_loss = rmbs_loss + treasury_loss + loans_loss + other_loan_loss\n",
    "        core_asset = rmbs_asset + treasury_asset + loan_asset + other_loan_asset\n",
    "\n",
    "        bank_losses_assets.loc[len(bank_losses_assets)] = {\n",
    "            'bank_name': bank,\n",
    "            'bank_ID': bank_id,\n",
    "            'RMBs_loss': rmbs_loss,\n",
    "            'treasury_loss': treasury_loss,\n",
    "            'loans_loss': loans_loss,\n",
    "            'other_loan_loss': other_loan_loss,\n",
    "            'total_loss': total_loss,\n",
    "            'Share RMBs': 100 * rmbs_loss / total_loss if total_loss else 0,\n",
    "            'Share Treasury and Other': 100 * treasury_loss / total_loss if total_loss else 0,\n",
    "            'Share Residential Mortgage': 100 * loans_loss / total_loss if total_loss else 0,\n",
    "            'Share Other Loan': 100 * other_loan_loss / total_loss if total_loss else 0,\n",
    "            'RMBs_asset': rmbs_asset,\n",
    "            'treasury_asset': treasury_asset,\n",
    "            'residential_mortgage_asset': loan_asset,\n",
    "            'other_loan_asset': other_loan_asset,\n",
    "            'core_asset': core_asset,\n",
    "            'gross_asset': bank_gross_asset,\n",
    "            'loss/core_asset': -(total_loss / core_asset) if core_asset else 0,\n",
    "            'loss/gross_asset': -(total_loss / bank_gross_asset) if bank_gross_asset else 0,\n",
    "        }\n",
    "\n",
    "    return bank_losses_assets"
   ]
  },
  {
   "cell_type": "code",
   "execution_count": null,
   "id": "c2270510",
   "metadata": {},
   "outputs": [],
   "source": [
    "bank_losses = report_losses(df_RMBS_Final, df_loans_first_lien_domestic, df_treasury_and_others, df_other_loan, treasury_prices, RMBS_Multiplier, gross_asset)\n",
    "bank_losses"
   ]
  },
  {
   "cell_type": "code",
   "execution_count": null,
   "id": "947b94c6",
   "metadata": {},
   "outputs": [],
   "source": [
    "median_percentage = bank_losses[['Share RMBs', 'Share Treasury and Other', \n",
    "        'Share Residential Mortgage', 'Share Other Loan']].median()\n",
    "median_percentage\n",
    "#close to reported values, but the distribution looks good"
   ]
  },
  {
   "cell_type": "code",
   "execution_count": null,
   "id": "704118d2",
   "metadata": {},
   "outputs": [],
   "source": [
    "std_percentages =bank_losses[['Share RMBs', 'Share Treasury and Other', \n",
    "        'Share Residential Mortgage', 'Share Other Loan']].std()\n",
    "std_percentages #this is slightly different "
   ]
  },
  {
   "cell_type": "markdown",
   "id": "522b9c6d",
   "metadata": {},
   "source": [
    "## Total, median, and std of losses"
   ]
  },
  {
   "cell_type": "code",
   "execution_count": null,
   "id": "f93f3744",
   "metadata": {},
   "outputs": [],
   "source": [
    "total_sum_loss = bank_losses['total_loss'].sum()\n",
    "total_sum_loss"
   ]
  },
  {
   "cell_type": "code",
   "execution_count": null,
   "id": "efb66ec7",
   "metadata": {},
   "outputs": [],
   "source": [
    "median_bank_loss = bank_losses['total_loss'].median()\n",
    "median_bank_loss "
   ]
  },
  {
   "cell_type": "code",
   "execution_count": null,
   "id": "4b1c9166",
   "metadata": {},
   "outputs": [],
   "source": [
    "std_bank_loss = bank_losses['total_loss'].std()\n",
    "std_bank_loss"
   ]
  },
  {
   "cell_type": "markdown",
   "id": "c05fcfcd",
   "metadata": {},
   "source": [
    "## Checks"
   ]
  },
  {
   "cell_type": "code",
   "execution_count": null,
   "id": "e94a6864",
   "metadata": {},
   "outputs": [],
   "source": [
    "core_asset = bank_losses['core_asset'].sum()\n",
    "core_asset"
   ]
  },
  {
   "cell_type": "code",
   "execution_count": null,
   "id": "e37dc638",
   "metadata": {},
   "outputs": [],
   "source": [
    "gross_asset = bank_losses['gross_asset'].sum()\n",
    "gross_asset "
   ]
  },
  {
   "cell_type": "code",
   "execution_count": null,
   "id": "8d046198",
   "metadata": {},
   "outputs": [],
   "source": [
    "core_asset / gross_asset"
   ]
  },
  {
   "cell_type": "markdown",
   "id": "e4316b18",
   "metadata": {},
   "source": [
    "# 2. Loss / Asset"
   ]
  },
  {
   "cell_type": "markdown",
   "id": "962ffbc9",
   "metadata": {},
   "source": [
    "## Ratio Results"
   ]
  },
  {
   "cell_type": "code",
   "execution_count": null,
   "id": "bc83dfa1",
   "metadata": {},
   "outputs": [],
   "source": [
    "median_loss_asset_ratio = bank_losses['loss/gross_asset'].median()\n",
    "median_loss_asset_ratio"
   ]
  },
  {
   "cell_type": "code",
   "execution_count": null,
   "id": "b93234c7",
   "metadata": {},
   "outputs": [],
   "source": [
    "average_loss_asset_ratio = bank_losses['loss/gross_asset'].mean()\n",
    "average_loss_asset_ratio"
   ]
  },
  {
   "cell_type": "code",
   "execution_count": null,
   "id": "427e7af7",
   "metadata": {},
   "outputs": [],
   "source": [
    "std_loss_asset_ratio = bank_losses['loss/gross_asset'].std()\n",
    "std_loss_asset_ratio"
   ]
  },
  {
   "cell_type": "markdown",
   "id": "19daeec6",
   "metadata": {},
   "source": [
    "# 3. Uninsured Deposit/MM Asset"
   ]
  },
  {
   "cell_type": "code",
   "execution_count": null,
   "id": "fd1ff5a1",
   "metadata": {},
   "outputs": [],
   "source": [
    "uninsured_deposit = rcon_data_1[['RSSD9001','RSSD9017', 'RSSD9999', 'RCON5597']]\n",
    "uninsured_deposit = uninsured_deposit .rename(columns={\n",
    "    'RSSD9001': 'bank_ID',\n",
    "    'RSSD9017': 'bank_name',\n",
    "    'RSSD9999': 'report_date',\n",
    "    'RCON5597': 'uninsured_deposit'\n",
    "\n",
    "})\n",
    "uninsured_deposit = uninsured_deposit[uninsured_deposit['report_date'] == '03/31/2022']\n",
    "uninsured_deposit['uninsured_deposit'].sum()/gross_asset #Similar to Panel A result of 37.4%"
   ]
  },
  {
   "cell_type": "code",
   "execution_count": null,
   "id": "834f27e8",
   "metadata": {},
   "outputs": [],
   "source": [
    "uninsured_deposit['uninsured_deposit'].sum() #Roughly 9 trillion "
   ]
  },
  {
   "cell_type": "code",
   "execution_count": null,
   "id": "47349629",
   "metadata": {},
   "outputs": [],
   "source": [
    "def calculate_uninsured_deposit_mm_asset(uninsured_deposit, bank_losses):\n",
    "    \n",
    "    # Initialize an empty list to store the results\n",
    "    results = []\n",
    "    \n",
    "    # Adjust the uninsured_deposit DataFrame to use both 'bank_name' and 'Bank_ID' as a multi-index for quick lookup\n",
    "    uninsured_lookup = uninsured_deposit.set_index(['bank_name', 'bank_ID'])['uninsured_deposit'].to_dict()\n",
    "    \n",
    "    # Iterate over each row in bank_losses DataFrame\n",
    "    for index, bank_loss_row in bank_losses.iterrows():\n",
    "        bank_name = bank_loss_row['bank_name']\n",
    "        bank_id = bank_loss_row['bank_ID']\n",
    "        \n",
    "        # Adjust the lookup to include 'Bank_ID'\n",
    "        uninsured_deposit_value = uninsured_lookup.get((bank_name, bank_id), 0)\n",
    "        \n",
    "        # Calculate 'MM Asset' as the sum of 'total_loss' and 'gross_asset' (as defined in the paper)\n",
    "        mm_asset = bank_loss_row['total_loss'] + bank_loss_row['gross_asset']\n",
    "        \n",
    "        # Calculate Uninsured Deposit/MM Asset ratio \n",
    "        if mm_asset > 0:\n",
    "            uninsured_deposit_mm_asset_ratio = uninsured_deposit_value / mm_asset\n",
    "        \n",
    "        # Append to final dataframe\n",
    "        results.append({\n",
    "            'bank_name': bank_name,\n",
    "            'bank_ID': bank_id, \n",
    "            'total_loss': bank_loss_row['total_loss'], \n",
    "            'total_asset': bank_loss_row['gross_asset'],\n",
    "            'mm_asset': mm_asset,\n",
    "            'uninsured_deposit': uninsured_deposit_value, \n",
    "            'Uninsured_Deposit_MM_Asset': uninsured_deposit_mm_asset_ratio\n",
    "        })\n",
    "    \n",
    "    # Convert results list to DataFrame and sort by 'Bank_ID'\n",
    "    results_df = pd.DataFrame(results).sort_values(by=['bank_name', 'bank_ID'])\n",
    "    \n",
    "    return results_df\n",
    "\n",
    "un_mm_ratio = calculate_uninsured_deposit_mm_asset(uninsured_deposit, bank_losses)"
   ]
  },
  {
   "cell_type": "markdown",
   "id": "bf9d371b",
   "metadata": {},
   "source": [
    "## Checks"
   ]
  },
  {
   "cell_type": "code",
   "execution_count": null,
   "id": "b12e09a8",
   "metadata": {},
   "outputs": [],
   "source": [
    "un_mm_ratio['total_loss'].sum()"
   ]
  },
  {
   "cell_type": "code",
   "execution_count": null,
   "id": "666c2063",
   "metadata": {},
   "outputs": [],
   "source": [
    "un_mm_ratio['total_asset'].sum()"
   ]
  },
  {
   "cell_type": "code",
   "execution_count": null,
   "id": "84af41ad",
   "metadata": {},
   "outputs": [],
   "source": [
    "un_mm_ratio['mm_asset'].sum()"
   ]
  },
  {
   "cell_type": "markdown",
   "id": "818cda55",
   "metadata": {},
   "source": [
    "## Ratio Results"
   ]
  },
  {
   "cell_type": "code",
   "execution_count": null,
   "id": "386876f5",
   "metadata": {},
   "outputs": [],
   "source": [
    "un_mm_ratio['Uninsured_Deposit_MM_Asset'].median()"
   ]
  },
  {
   "cell_type": "code",
   "execution_count": null,
   "id": "4e0326d9",
   "metadata": {},
   "outputs": [],
   "source": [
    "un_mm_ratio['Uninsured_Deposit_MM_Asset'].std()"
   ]
  },
  {
   "cell_type": "markdown",
   "id": "30481528",
   "metadata": {},
   "source": [
    "# 4. Insured Deposit Coverage Ratio - CURRENTLY NOT WORKING"
   ]
  },
  {
   "cell_type": "code",
   "execution_count": null,
   "id": "f3c9d5f4",
   "metadata": {},
   "outputs": [],
   "source": [
    "insured_deposit = rcon_data_1[['RSSD9001','RSSD9017', 'RSSD9999', 'RCONF049', 'RCONF045']] \n",
    "#RCFDF049 are Deposit accounts (excluding retirement accounts) of $250,000 or less\n",
    "#RCFDF045 are Retirement deposit accounts of $250,000 or less\n",
    "\n",
    "insured_deposit = insured_deposit.rename(columns={\n",
    "    'RSSD9001': 'bank_ID',\n",
    "    'RSSD9017': 'bank_name',\n",
    "    'RSSD9999': 'report_date',\n",
    "    'RCONF049': 'insured_deposit_1',\n",
    "    'RCONF045': 'insured_deposit_2'\n",
    "})\n",
    "insured_deposit = insured_deposit[insured_deposit['report_date'] == '03/31/2022']\n",
    "insured_deposit['insured_deposit_1'].sum()/total_asset + insured_deposit['insured_deposit_2'].sum()/total_asset\n",
    "\n",
    "#THESE NUMBERS ARE SLIGHLY FAR FROM INSURED DEPOSIT IN PANEL A"
   ]
  },
  {
   "cell_type": "code",
   "execution_count": null,
   "id": "51354ae7",
   "metadata": {},
   "outputs": [],
   "source": [
    "insured_deposit['insured_deposit'] = insured_deposit['insured_deposit_1'] + insured_deposit['insured_deposit_2']\n",
    "insured_deposit "
   ]
  },
  {
   "cell_type": "code",
   "execution_count": null,
   "id": "301c1530",
   "metadata": {},
   "outputs": [],
   "source": [
    "insured_deposit['insured_deposit'].sum()"
   ]
  },
  {
   "cell_type": "code",
   "execution_count": null,
   "id": "6ceb2d11",
   "metadata": {},
   "outputs": [],
   "source": [
    "def insured_deposit_coverage_ratio(insured_deposit, uninsured_deposit, bank_losses):\n",
    "    # Initialize an empty list to store the results\n",
    "    results = []\n",
    "    \n",
    "    # Create dictionaries from insured and uninsured deposits for quick lookup\n",
    "    insured_lookup = insured_deposit.set_index(['bank_name', 'bank_ID'])['insured_deposit'].to_dict()\n",
    "    uninsured_lookup = uninsured_deposit.set_index(['bank_name', 'bank_ID'])['uninsured_deposit'].to_dict()\n",
    "    \n",
    "    # Iterate over each row in bank_losses DataFrame\n",
    "    for index, bank_loss_row in bank_losses.iterrows():\n",
    "        bank_name = bank_loss_row['bank_name']\n",
    "        bank_id = bank_loss_row['bank_ID']\n",
    "        \n",
    "        # Retrieve insured and uninsured deposit values\n",
    "        insured_deposit_value = insured_lookup.get((bank_name, bank_id), 0)\n",
    "        uninsured_deposit_value = uninsured_lookup.get((bank_name, bank_id), 0)\n",
    "        \n",
    "        # Calculate mark-to-market asset value as the sum of 'total_asset' minus 'total_loss'\n",
    "        mark_to_market_asset_value = bank_loss_row['gross_asset'] + bank_loss_row['total_loss']\n",
    "        \n",
    "        # Calculate the insured deposit coverage ratio\n",
    "        if insured_deposit_value > 0:  # Prevent division by zero\n",
    "            coverage_ratio = (mark_to_market_asset_value - uninsured_deposit_value - insured_deposit_value) / insured_deposit_value\n",
    "        \n",
    "        # Append the result\n",
    "        results.append({\n",
    "            'bank_name': bank_name,\n",
    "            'bank_ID': bank_id,\n",
    "            'mm_asset': mark_to_market_asset_value,\n",
    "            'insured_deposit': insured_deposit_value,\n",
    "            'uninsured_deposit': uninsured_deposit_value,\n",
    "            'insured_deposit_coverage_ratio': coverage_ratio\n",
    "        })\n",
    "    \n",
    "    # Convert results list to DataFrame\n",
    "    results_df = pd.DataFrame(results)\n",
    "    \n",
    "    return results_df\n",
    "\n",
    "coverage_ratios_df = insured_deposit_coverage_ratio(insured_deposit, uninsured_deposit, bank_losses)\n",
    "coverage_ratios_df"
   ]
  },
  {
   "cell_type": "markdown",
   "id": "50af25f6",
   "metadata": {},
   "source": [
    "## Checks"
   ]
  },
  {
   "cell_type": "code",
   "execution_count": null,
   "id": "801711bb",
   "metadata": {},
   "outputs": [],
   "source": [
    "coverage_ratios_df['insured_deposit'].sum()"
   ]
  },
  {
   "cell_type": "code",
   "execution_count": null,
   "id": "0b675c46",
   "metadata": {},
   "outputs": [],
   "source": [
    "coverage_ratios_df['uninsured_deposit'].sum()"
   ]
  },
  {
   "cell_type": "code",
   "execution_count": null,
   "id": "7b29d88f",
   "metadata": {},
   "outputs": [],
   "source": [
    "coverage_ratios_df['mm_asset'].sum()"
   ]
  },
  {
   "cell_type": "markdown",
   "id": "b4620619",
   "metadata": {},
   "source": [
    "## Ratio Results"
   ]
  },
  {
   "cell_type": "code",
   "execution_count": null,
   "id": "cfd0cb47",
   "metadata": {},
   "outputs": [],
   "source": [
    "coverage_ratios_df['insured_deposit_coverage_ratio'].median()"
   ]
  },
  {
   "cell_type": "code",
   "execution_count": null,
   "id": "d69c0d30",
   "metadata": {},
   "outputs": [],
   "source": [
    "coverage_ratios_df['insured_deposit_coverage_ratio'].std()"
   ]
  }
 ],
 "metadata": {
  "language_info": {
   "name": "python"
  }
 },
 "nbformat": 4,
 "nbformat_minor": 5
}
