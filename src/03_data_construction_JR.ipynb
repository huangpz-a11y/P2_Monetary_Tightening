{
 "cells": [
  {
   "cell_type": "code",
   "execution_count": null,
   "id": "731fb390",
   "metadata": {},
   "outputs": [],
   "source": [
    "import matplotlib.pyplot as plt\n",
    "import pandas as pd\n",
    "import data_read\n",
    "import config\n",
    "from pathlib import Path\n",
    "\n",
    "BASE_DIR = config.BASE_DIR\n",
    "data_dir = BASE_DIR / 'data' "
   ]
  },
  {
   "cell_type": "code",
   "execution_count": null,
   "id": "77579eb8",
   "metadata": {},
   "outputs": [],
   "source": [
    "sp_1_3 = data_read.process_sp_data('S&P 1-3','sp 1-3')\n",
    "sp_3_5 = data_read.process_sp_data('S&P 3-5','sp 3-5')\n",
    "sp_7_10 = data_read.process_sp_data('S&P 7-10','sp 7-10')"
   ]
  },
  {
   "cell_type": "code",
   "execution_count": null,
   "id": "0faeffdb",
   "metadata": {},
   "outputs": [],
   "source": [
    "sp_1_3[sp_1_3.index == '2022-01-03'].iloc[0,0],sp_1_3[sp_1_3.index == '2023-03-31'].iloc[0,0]"
   ]
  },
  {
   "cell_type": "code",
   "execution_count": null,
   "id": "fbd8f155",
   "metadata": {},
   "outputs": [],
   "source": [
    "start_date = \"2019-02-25\"\n",
    "end_date = \"2024-03-01\"\n",
    "etf_symbols = [\"IB01.L\",\"SHY\", \"IEF\", \"TLH\", \"TLT\"]\n",
    "etf_names = [\"iShares 0-1\",\"iShares 1-3\", \"iShares 7-10\", \"iShares 10-20\", \"iShares 20+\"]\n",
    "ishares = data_read.fetch_etfs(etf_symbols,start_date,end_date)\n",
    "ishares.columns = etf_names\n",
    "ishares"
   ]
  },
  {
   "cell_type": "code",
   "execution_count": null,
   "id": "d6b1b625",
   "metadata": {},
   "outputs": [],
   "source": [
    "data_read.save_df(ishares,Path(data_dir) / \"pulled\"/ \"ishares\")"
   ]
  },
  {
   "cell_type": "code",
   "execution_count": null,
   "id": "33a9c9fe",
   "metadata": {},
   "outputs": [],
   "source": [
    "ishares = data_read.load_df(Path(data_dir) / \"pulled\"/ \"ishares\")"
   ]
  },
  {
   "cell_type": "code",
   "execution_count": null,
   "id": "e1a7e914",
   "metadata": {},
   "outputs": [],
   "source": [
    "df_ls = [ishares,sp_1_3,sp_3_5,sp_7_10]"
   ]
  },
  {
   "cell_type": "code",
   "execution_count": null,
   "id": "3bb2bbfd",
   "metadata": {},
   "outputs": [],
   "source": [
    "combined_df = data_read.combine_dfs(df_ls)\n",
    "pd.reset_option('display.max_rows')\n",
    "pd.reset_option('display.max_columns')\n",
    "pd.reset_option('display.expand_frame_repr')\n",
    "combined_df"
   ]
  },
  {
   "cell_type": "code",
   "execution_count": null,
   "id": "ebe7dc55",
   "metadata": {},
   "outputs": [],
   "source": [
    "data_read.save_df(combined_df, Path(data_dir) / \"pulled\" / \"combined_index_df\")"
   ]
  },
  {
   "cell_type": "code",
   "execution_count": null,
   "id": "0ad5faff",
   "metadata": {},
   "outputs": [],
   "source": [
    "combined_df = data_read.load_df(Path(data_dir) / \"pulled\" / \"combined_index_df\")\n",
    "combined_df"
   ]
  },
  {
   "cell_type": "code",
   "execution_count": null,
   "id": "76670c7b",
   "metadata": {},
   "outputs": [],
   "source": [
    "test_range = combined_df[combined_df.index >= '2022-07-01'].head()\n",
    "pd.set_option('display.max_rows', None)  # Set to None for unlimited rows\n",
    "pd.set_option('display.max_columns', None)\n",
    "pd.set_option('display.expand_frame_repr', False)\n",
    "print(test_range)"
   ]
  },
  {
   "cell_type": "code",
   "execution_count": null,
   "id": "6afbd0d4",
   "metadata": {},
   "outputs": [],
   "source": [
    "test_string1 = test_range.to_string().replace(\" \", \"\").replace(\"\\n\", \"\")\n",
    "test_string1"
   ]
  },
  {
   "cell_type": "code",
   "execution_count": null,
   "id": "05759a3a",
   "metadata": {},
   "outputs": [],
   "source": [
    "test_string2 ='''\n",
    "        iShares 0-1  iShares 1-3  iShares 7-10  iShares 10-20  iShares 20+  sp 1-3  sp 3-5  sp 7-10\n",
    "        date                                                                                                   \n",
    "        2022-07-01   101.980003    79.260551     98.588120     114.192192   109.723854  331.17  464.47   620.23\n",
    "        2022-07-02   101.980003    79.260551     98.588120     114.192192   109.723854  331.17  464.47   620.23\n",
    "        2022-07-03   101.980003    79.260551     98.588120     114.192192   109.723854  331.17  464.47   620.23\n",
    "        2022-07-04   101.970001    79.260551     98.588120     114.192192   109.723854  331.17  464.47   620.23\n",
    "        2022-07-05   101.959999    79.250984     98.951019     114.890854   110.585976  331.28  465.09   623.16\n",
    "\n",
    "    '''\n",
    "test_string2 = test_string2.replace(\" \", \"\").replace(\"\\n\", \"\")\n",
    "test_string2"
   ]
  },
  {
   "cell_type": "code",
   "execution_count": null,
   "id": "d4d9e7c8",
   "metadata": {},
   "outputs": [],
   "source": [
    "test_string1 == test_string2"
   ]
  },
  {
   "cell_type": "code",
   "execution_count": null,
   "id": "195d9d6a",
   "metadata": {},
   "outputs": [],
   "source": [
    "from difflib import SequenceMatcher"
   ]
  },
  {
   "cell_type": "code",
   "execution_count": null,
   "id": "b6ab6c3a",
   "metadata": {},
   "outputs": [],
   "source": [
    "def find_string_difference_location(str1, str2):\n",
    "    # Iterate through the characters of the strings to find difference\n",
    "    for i, (char1, char2) in enumerate(zip(str1, str2)):\n",
    "        if char1 != char2:\n",
    "            return i  \n",
    " \n",
    "    if min(len(str1), len(str2)) == len(str1):\n",
    "        return \"no differences in strings\"\n",
    "    else: \n",
    "        return \"differnce found at:\" + min(len(str1), len(str2))\n",
    "\n",
    "find_string_difference_location(test_string1, test_string2)"
   ]
  },
  {
   "cell_type": "code",
   "execution_count": null,
   "id": "3e98af11",
   "metadata": {},
   "outputs": [],
   "source": [
    "len(test_string1)"
   ]
  },
  {
   "cell_type": "code",
   "execution_count": null,
   "id": "44ea57db",
   "metadata": {},
   "outputs": [],
   "source": [
    "start_g = '2022-01-01'\n",
    "end_g = '2023-03-01'\n",
    "\n",
    "data_read.graph_index(combined_df,start_g,end_g)"
   ]
  },
  {
   "cell_type": "code",
   "execution_count": null,
   "id": "4346842b",
   "metadata": {},
   "outputs": [],
   "source": []
  }
 ],
 "metadata": {
  "language_info": {
   "name": "python"
  }
 },
 "nbformat": 4,
 "nbformat_minor": 5
}
